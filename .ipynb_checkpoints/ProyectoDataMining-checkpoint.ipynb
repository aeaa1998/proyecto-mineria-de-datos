{
 "cells": [
  {
   "cell_type": "markdown",
   "metadata": {},
   "source": [
    "# Proyecto 1 Data mining\n",
    "## Realizado por:\n",
    "### Nombres \n",
    "- Augusto Alonso - 181085\n",
    "- Joohno Molina -\n",
    "- Mario Sarmientos -"
   ]
  },
  {
   "cell_type": "code",
   "execution_count": 1,
   "metadata": {},
   "outputs": [
    {
     "name": "stdout",
     "output_type": "stream",
     "text": [
      "Requirement already satisfied: plotly in /Library/Frameworks/Python.framework/Versions/3.7/lib/python3.7/site-packages (4.14.3)\r\n",
      "Requirement already satisfied: six in /Library/Frameworks/Python.framework/Versions/3.7/lib/python3.7/site-packages (from plotly) (1.11.0)\r\n",
      "Requirement already satisfied: retrying>=1.3.3 in /Library/Frameworks/Python.framework/Versions/3.7/lib/python3.7/site-packages (from plotly) (1.3.3)\r\n"
     ]
    }
   ],
   "source": [
    "!pip install plotly"
   ]
  },
  {
   "cell_type": "code",
   "execution_count": 2,
   "metadata": {},
   "outputs": [
    {
     "name": "stdout",
     "output_type": "stream",
     "text": [
      "Requirement already satisfied: pyreadstat in /Library/Frameworks/Python.framework/Versions/3.7/lib/python3.7/site-packages (1.1.0)\n",
      "Requirement already satisfied: pandas>0.24.0 in /Library/Frameworks/Python.framework/Versions/3.7/lib/python3.7/site-packages (from pyreadstat) (1.1.5)\n",
      "Requirement already satisfied: python-dateutil>=2.7.3 in /Library/Frameworks/Python.framework/Versions/3.7/lib/python3.7/site-packages (from pandas>0.24.0->pyreadstat) (2.7.3)\n",
      "Requirement already satisfied: numpy>=1.15.4 in /Library/Frameworks/Python.framework/Versions/3.7/lib/python3.7/site-packages (from pandas>0.24.0->pyreadstat) (1.20.2)\n",
      "Requirement already satisfied: pytz>=2017.2 in /Library/Frameworks/Python.framework/Versions/3.7/lib/python3.7/site-packages (from pandas>0.24.0->pyreadstat) (2019.3)\n",
      "Requirement already satisfied: six>=1.5 in /Library/Frameworks/Python.framework/Versions/3.7/lib/python3.7/site-packages (from python-dateutil>=2.7.3->pandas>0.24.0->pyreadstat) (1.11.0)\n",
      "Requirement already satisfied: seaborn in /Library/Frameworks/Python.framework/Versions/3.7/lib/python3.7/site-packages (0.11.1)\n",
      "Requirement already satisfied: scipy>=1.0 in /Library/Frameworks/Python.framework/Versions/3.7/lib/python3.7/site-packages (from seaborn) (1.6.2)\n",
      "Requirement already satisfied: matplotlib>=2.2 in /Library/Frameworks/Python.framework/Versions/3.7/lib/python3.7/site-packages (from seaborn) (3.0.0)\n",
      "Requirement already satisfied: pandas>=0.23 in /Library/Frameworks/Python.framework/Versions/3.7/lib/python3.7/site-packages (from seaborn) (1.1.5)\n",
      "Requirement already satisfied: numpy>=1.15 in /Library/Frameworks/Python.framework/Versions/3.7/lib/python3.7/site-packages (from seaborn) (1.20.2)\n",
      "Requirement already satisfied: pyparsing!=2.0.4,!=2.1.2,!=2.1.6,>=2.0.1 in /Library/Frameworks/Python.framework/Versions/3.7/lib/python3.7/site-packages (from matplotlib>=2.2->seaborn) (2.2.2)\n",
      "Requirement already satisfied: python-dateutil>=2.1 in /Library/Frameworks/Python.framework/Versions/3.7/lib/python3.7/site-packages (from matplotlib>=2.2->seaborn) (2.7.3)\n",
      "Requirement already satisfied: cycler>=0.10 in /Library/Frameworks/Python.framework/Versions/3.7/lib/python3.7/site-packages (from matplotlib>=2.2->seaborn) (0.10.0)\n",
      "Requirement already satisfied: kiwisolver>=1.0.1 in /Library/Frameworks/Python.framework/Versions/3.7/lib/python3.7/site-packages (from matplotlib>=2.2->seaborn) (1.0.1)\n",
      "Requirement already satisfied: six in /Library/Frameworks/Python.framework/Versions/3.7/lib/python3.7/site-packages (from cycler>=0.10->matplotlib>=2.2->seaborn) (1.11.0)\n",
      "Requirement already satisfied: setuptools in /Library/Frameworks/Python.framework/Versions/3.7/lib/python3.7/site-packages (from kiwisolver>=1.0.1->matplotlib>=2.2->seaborn) (39.0.1)\n",
      "Requirement already satisfied: pytz>=2017.2 in /Library/Frameworks/Python.framework/Versions/3.7/lib/python3.7/site-packages (from pandas>=0.23->seaborn) (2019.3)\n",
      "Requirement already satisfied: xlrd==1.2.0 in /Library/Frameworks/Python.framework/Versions/3.7/lib/python3.7/site-packages (1.2.0)\n",
      "Requirement already satisfied: sklearn in /Library/Frameworks/Python.framework/Versions/3.7/lib/python3.7/site-packages (0.0)\n",
      "Requirement already satisfied: scikit-learn in /Library/Frameworks/Python.framework/Versions/3.7/lib/python3.7/site-packages (from sklearn) (0.24.1)\n",
      "Requirement already satisfied: joblib>=0.11 in /Library/Frameworks/Python.framework/Versions/3.7/lib/python3.7/site-packages (from scikit-learn->sklearn) (1.0.1)\n",
      "Requirement already satisfied: numpy>=1.13.3 in /Library/Frameworks/Python.framework/Versions/3.7/lib/python3.7/site-packages (from scikit-learn->sklearn) (1.20.2)\n",
      "Requirement already satisfied: threadpoolctl>=2.0.0 in /Library/Frameworks/Python.framework/Versions/3.7/lib/python3.7/site-packages (from scikit-learn->sklearn) (2.1.0)\n",
      "Requirement already satisfied: scipy>=0.19.1 in /Library/Frameworks/Python.framework/Versions/3.7/lib/python3.7/site-packages (from scikit-learn->sklearn) (1.6.2)\n"
     ]
    }
   ],
   "source": [
    "!pip install pyreadstat\n",
    "!pip install seaborn\n",
    "!pip install xlrd==1.2.0\n",
    "!pip install sklearn"
   ]
  },
  {
   "cell_type": "code",
   "execution_count": 3,
   "metadata": {},
   "outputs": [],
   "source": [
    "import pandas as pd\n",
    "import seaborn as sns\n",
    "import matplotlib.pyplot as plt\n",
    "import pyreadstat\n",
    "import numpy as np\n",
    "import plotly.express as px"
   ]
  },
  {
   "cell_type": "code",
   "execution_count": 4,
   "metadata": {},
   "outputs": [],
   "source": [
    "a = range(2009,2020)\n",
    "b = \"Data/defunciones\"\n",
    "lista = []\n",
    "nombres = ['Depreg', 'Mupreg', 'Mesreg', 'Añoreg', 'Depocu', 'Mupocu', 'Areag',\n",
    "       'Sexo', 'Diaocu', 'Mesocu', 'Añoocu', 'Edadif', 'Perdif', 'Getdif',\n",
    "       'Ecidif', 'Ocudif', 'Dnadif', 'Mnadif', 'Nacdif', 'Dredif', 'Mredif',\n",
    "       'Caudef', 'Asist', 'Ocur', 'Cerdef', 'year']\n",
    "palabras = ['mupreg', 'mupocu','añoocu', 'Escodif', 'mnadif i in columnas:if', 'Pnadif', 'Predif', 'Puedif', 'Ciuodif',\n",
    "       'caudef.descrip']"
   ]
  },
  {
   "cell_type": "code",
   "execution_count": 5,
   "metadata": {
    "scrolled": false
   },
   "outputs": [],
   "source": [
    "for k in a:\n",
    "    path = b + str(k) + \".sav\"\n",
    "    df, meta = pyreadstat.read_sav(path)\n",
    "    columnas = df.columns\n",
    "    columnas = list(columnas) \n",
    "    for i in columnas:\n",
    "        if i in palabras:\n",
    "            for j in nombres:\n",
    "                \n",
    "                if i.lower() == j.lower():\n",
    "                    df = df.rename(columns={i: j})\n",
    "    df[\"year\"] = k\n",
    "    lista.append(df)"
   ]
  },
  {
   "cell_type": "code",
   "execution_count": 6,
   "metadata": {},
   "outputs": [
    {
     "data": {
      "text/plain": [
       "Index(['Depreg', 'Mupreg', 'Mesreg', 'Añoreg', 'Depocu', 'Mupocu', 'Areag',\n",
       "       'Sexo', 'Diaocu', 'Mesocu', 'Añoocu', 'Edadif', 'Perdif', 'Getdif',\n",
       "       'Ecidif', 'Ocudif', 'Dnadif', 'Mnadif', 'Nacdif', 'Dredif', 'Mredif',\n",
       "       'Caudef', 'Asist', 'Ocur', 'Cerdef', 'year', 'Escodif', 'Pnadif',\n",
       "       'Predif', 'Puedif', 'Ciuodif', 'caudef.descrip'],\n",
       "      dtype='object')"
      ]
     },
     "execution_count": 6,
     "metadata": {},
     "output_type": "execute_result"
    }
   ],
   "source": [
    "defunciones = pd.concat(lista)\n",
    "defunciones.shape\n",
    "defunciones.columns"
   ]
  },
  {
   "cell_type": "code",
   "execution_count": 7,
   "metadata": {
    "scrolled": true
   },
   "outputs": [
    {
     "data": {
      "text/html": [
       "<div>\n",
       "<style scoped>\n",
       "    .dataframe tbody tr th:only-of-type {\n",
       "        vertical-align: middle;\n",
       "    }\n",
       "\n",
       "    .dataframe tbody tr th {\n",
       "        vertical-align: top;\n",
       "    }\n",
       "\n",
       "    .dataframe thead th {\n",
       "        text-align: right;\n",
       "    }\n",
       "</style>\n",
       "<table border=\"1\" class=\"dataframe\">\n",
       "  <thead>\n",
       "    <tr style=\"text-align: right;\">\n",
       "      <th></th>\n",
       "      <th>Depreg</th>\n",
       "      <th>Mupreg</th>\n",
       "      <th>Mesreg</th>\n",
       "      <th>Añoreg</th>\n",
       "      <th>Depocu</th>\n",
       "      <th>Mupocu</th>\n",
       "      <th>Areag</th>\n",
       "      <th>Sexo</th>\n",
       "      <th>Diaocu</th>\n",
       "      <th>Mesocu</th>\n",
       "      <th>...</th>\n",
       "      <th>Asist</th>\n",
       "      <th>Ocur</th>\n",
       "      <th>Cerdef</th>\n",
       "      <th>year</th>\n",
       "      <th>Escodif</th>\n",
       "      <th>Pnadif</th>\n",
       "      <th>Predif</th>\n",
       "      <th>Puedif</th>\n",
       "      <th>Ciuodif</th>\n",
       "      <th>caudef.descrip</th>\n",
       "    </tr>\n",
       "  </thead>\n",
       "  <tbody>\n",
       "    <tr>\n",
       "      <th>0</th>\n",
       "      <td>5.0</td>\n",
       "      <td>0505</td>\n",
       "      <td>1.0</td>\n",
       "      <td>9.0</td>\n",
       "      <td>5.0</td>\n",
       "      <td>0505</td>\n",
       "      <td>9.0</td>\n",
       "      <td>1.0</td>\n",
       "      <td>2.0</td>\n",
       "      <td>1.0</td>\n",
       "      <td>...</td>\n",
       "      <td>1.0</td>\n",
       "      <td>3.0</td>\n",
       "      <td>1.0</td>\n",
       "      <td>2009</td>\n",
       "      <td>NaN</td>\n",
       "      <td>NaN</td>\n",
       "      <td>NaN</td>\n",
       "      <td>NaN</td>\n",
       "      <td>NaN</td>\n",
       "      <td>NaN</td>\n",
       "    </tr>\n",
       "    <tr>\n",
       "      <th>1</th>\n",
       "      <td>1.0</td>\n",
       "      <td>0101</td>\n",
       "      <td>9.0</td>\n",
       "      <td>9.0</td>\n",
       "      <td>1.0</td>\n",
       "      <td>0101</td>\n",
       "      <td>9.0</td>\n",
       "      <td>1.0</td>\n",
       "      <td>27.0</td>\n",
       "      <td>9.0</td>\n",
       "      <td>...</td>\n",
       "      <td>4.0</td>\n",
       "      <td>3.0</td>\n",
       "      <td>1.0</td>\n",
       "      <td>2009</td>\n",
       "      <td>NaN</td>\n",
       "      <td>NaN</td>\n",
       "      <td>NaN</td>\n",
       "      <td>NaN</td>\n",
       "      <td>NaN</td>\n",
       "      <td>NaN</td>\n",
       "    </tr>\n",
       "    <tr>\n",
       "      <th>2</th>\n",
       "      <td>22.0</td>\n",
       "      <td>2206</td>\n",
       "      <td>9.0</td>\n",
       "      <td>9.0</td>\n",
       "      <td>22.0</td>\n",
       "      <td>2206</td>\n",
       "      <td>9.0</td>\n",
       "      <td>2.0</td>\n",
       "      <td>23.0</td>\n",
       "      <td>8.0</td>\n",
       "      <td>...</td>\n",
       "      <td>4.0</td>\n",
       "      <td>3.0</td>\n",
       "      <td>2.0</td>\n",
       "      <td>2009</td>\n",
       "      <td>NaN</td>\n",
       "      <td>NaN</td>\n",
       "      <td>NaN</td>\n",
       "      <td>NaN</td>\n",
       "      <td>NaN</td>\n",
       "      <td>NaN</td>\n",
       "    </tr>\n",
       "    <tr>\n",
       "      <th>3</th>\n",
       "      <td>2.0</td>\n",
       "      <td>0201</td>\n",
       "      <td>12.0</td>\n",
       "      <td>9.0</td>\n",
       "      <td>2.0</td>\n",
       "      <td>0201</td>\n",
       "      <td>9.0</td>\n",
       "      <td>1.0</td>\n",
       "      <td>5.0</td>\n",
       "      <td>12.0</td>\n",
       "      <td>...</td>\n",
       "      <td>4.0</td>\n",
       "      <td>3.0</td>\n",
       "      <td>1.0</td>\n",
       "      <td>2009</td>\n",
       "      <td>NaN</td>\n",
       "      <td>NaN</td>\n",
       "      <td>NaN</td>\n",
       "      <td>NaN</td>\n",
       "      <td>NaN</td>\n",
       "      <td>NaN</td>\n",
       "    </tr>\n",
       "    <tr>\n",
       "      <th>4</th>\n",
       "      <td>1.0</td>\n",
       "      <td>0101</td>\n",
       "      <td>5.0</td>\n",
       "      <td>9.0</td>\n",
       "      <td>1.0</td>\n",
       "      <td>0101</td>\n",
       "      <td>9.0</td>\n",
       "      <td>2.0</td>\n",
       "      <td>7.0</td>\n",
       "      <td>5.0</td>\n",
       "      <td>...</td>\n",
       "      <td>4.0</td>\n",
       "      <td>3.0</td>\n",
       "      <td>1.0</td>\n",
       "      <td>2009</td>\n",
       "      <td>NaN</td>\n",
       "      <td>NaN</td>\n",
       "      <td>NaN</td>\n",
       "      <td>NaN</td>\n",
       "      <td>NaN</td>\n",
       "      <td>NaN</td>\n",
       "    </tr>\n",
       "  </tbody>\n",
       "</table>\n",
       "<p>5 rows × 32 columns</p>\n",
       "</div>"
      ],
      "text/plain": [
       "   Depreg Mupreg  Mesreg  Añoreg  Depocu Mupocu  Areag  Sexo  Diaocu  Mesocu  \\\n",
       "0     5.0   0505     1.0     9.0     5.0   0505    9.0   1.0     2.0     1.0   \n",
       "1     1.0   0101     9.0     9.0     1.0   0101    9.0   1.0    27.0     9.0   \n",
       "2    22.0   2206     9.0     9.0    22.0   2206    9.0   2.0    23.0     8.0   \n",
       "3     2.0   0201    12.0     9.0     2.0   0201    9.0   1.0     5.0    12.0   \n",
       "4     1.0   0101     5.0     9.0     1.0   0101    9.0   2.0     7.0     5.0   \n",
       "\n",
       "   ...  Asist  Ocur  Cerdef  year  Escodif Pnadif  Predif Puedif  Ciuodif  \\\n",
       "0  ...    1.0   3.0     1.0  2009      NaN    NaN     NaN    NaN      NaN   \n",
       "1  ...    4.0   3.0     1.0  2009      NaN    NaN     NaN    NaN      NaN   \n",
       "2  ...    4.0   3.0     2.0  2009      NaN    NaN     NaN    NaN      NaN   \n",
       "3  ...    4.0   3.0     1.0  2009      NaN    NaN     NaN    NaN      NaN   \n",
       "4  ...    4.0   3.0     1.0  2009      NaN    NaN     NaN    NaN      NaN   \n",
       "\n",
       "   caudef.descrip  \n",
       "0             NaN  \n",
       "1             NaN  \n",
       "2             NaN  \n",
       "3             NaN  \n",
       "4             NaN  \n",
       "\n",
       "[5 rows x 32 columns]"
      ]
     },
     "execution_count": 7,
     "metadata": {},
     "output_type": "execute_result"
    }
   ],
   "source": [
    "defunciones.head()"
   ]
  },
  {
   "cell_type": "code",
   "execution_count": 8,
   "metadata": {},
   "outputs": [
    {
     "data": {
      "text/html": [
       "<div>\n",
       "<style scoped>\n",
       "    .dataframe tbody tr th:only-of-type {\n",
       "        vertical-align: middle;\n",
       "    }\n",
       "\n",
       "    .dataframe tbody tr th {\n",
       "        vertical-align: top;\n",
       "    }\n",
       "\n",
       "    .dataframe thead th {\n",
       "        text-align: right;\n",
       "    }\n",
       "</style>\n",
       "<table border=\"1\" class=\"dataframe\">\n",
       "  <thead>\n",
       "    <tr style=\"text-align: right;\">\n",
       "      <th></th>\n",
       "      <th>Depreg</th>\n",
       "      <th>Mupreg</th>\n",
       "      <th>Mesreg</th>\n",
       "      <th>Añoreg</th>\n",
       "      <th>Depocu</th>\n",
       "      <th>Mupocu</th>\n",
       "      <th>Areag</th>\n",
       "      <th>Sexo</th>\n",
       "      <th>Diaocu</th>\n",
       "      <th>Mesocu</th>\n",
       "      <th>...</th>\n",
       "      <th>Dnadif</th>\n",
       "      <th>Mnadif</th>\n",
       "      <th>Nacdif</th>\n",
       "      <th>Dredif</th>\n",
       "      <th>Mredif</th>\n",
       "      <th>Caudef</th>\n",
       "      <th>Asist</th>\n",
       "      <th>Ocur</th>\n",
       "      <th>Cerdef</th>\n",
       "      <th>year</th>\n",
       "    </tr>\n",
       "  </thead>\n",
       "  <tbody>\n",
       "    <tr>\n",
       "      <th>0</th>\n",
       "      <td>5.0</td>\n",
       "      <td>0505</td>\n",
       "      <td>1.0</td>\n",
       "      <td>9.0</td>\n",
       "      <td>5.0</td>\n",
       "      <td>0505</td>\n",
       "      <td>9.0</td>\n",
       "      <td>1.0</td>\n",
       "      <td>2.0</td>\n",
       "      <td>1.0</td>\n",
       "      <td>...</td>\n",
       "      <td>1.0</td>\n",
       "      <td>0101</td>\n",
       "      <td>0.0</td>\n",
       "      <td>1.0</td>\n",
       "      <td>0101</td>\n",
       "      <td>Y214</td>\n",
       "      <td>1.0</td>\n",
       "      <td>3.0</td>\n",
       "      <td>1.0</td>\n",
       "      <td>2009</td>\n",
       "    </tr>\n",
       "    <tr>\n",
       "      <th>1</th>\n",
       "      <td>1.0</td>\n",
       "      <td>0101</td>\n",
       "      <td>9.0</td>\n",
       "      <td>9.0</td>\n",
       "      <td>1.0</td>\n",
       "      <td>0101</td>\n",
       "      <td>9.0</td>\n",
       "      <td>1.0</td>\n",
       "      <td>27.0</td>\n",
       "      <td>9.0</td>\n",
       "      <td>...</td>\n",
       "      <td>1.0</td>\n",
       "      <td>0101</td>\n",
       "      <td>0.0</td>\n",
       "      <td>1.0</td>\n",
       "      <td>0101</td>\n",
       "      <td>X919</td>\n",
       "      <td>4.0</td>\n",
       "      <td>3.0</td>\n",
       "      <td>1.0</td>\n",
       "      <td>2009</td>\n",
       "    </tr>\n",
       "    <tr>\n",
       "      <th>2</th>\n",
       "      <td>22.0</td>\n",
       "      <td>2206</td>\n",
       "      <td>9.0</td>\n",
       "      <td>9.0</td>\n",
       "      <td>22.0</td>\n",
       "      <td>2206</td>\n",
       "      <td>9.0</td>\n",
       "      <td>2.0</td>\n",
       "      <td>23.0</td>\n",
       "      <td>8.0</td>\n",
       "      <td>...</td>\n",
       "      <td>1.0</td>\n",
       "      <td>0101</td>\n",
       "      <td>0.0</td>\n",
       "      <td>1.0</td>\n",
       "      <td>0101</td>\n",
       "      <td>X959</td>\n",
       "      <td>4.0</td>\n",
       "      <td>3.0</td>\n",
       "      <td>2.0</td>\n",
       "      <td>2009</td>\n",
       "    </tr>\n",
       "    <tr>\n",
       "      <th>3</th>\n",
       "      <td>2.0</td>\n",
       "      <td>0201</td>\n",
       "      <td>12.0</td>\n",
       "      <td>9.0</td>\n",
       "      <td>2.0</td>\n",
       "      <td>0201</td>\n",
       "      <td>9.0</td>\n",
       "      <td>1.0</td>\n",
       "      <td>5.0</td>\n",
       "      <td>12.0</td>\n",
       "      <td>...</td>\n",
       "      <td>1.0</td>\n",
       "      <td>0101</td>\n",
       "      <td>0.0</td>\n",
       "      <td>1.0</td>\n",
       "      <td>0101</td>\n",
       "      <td>V899</td>\n",
       "      <td>4.0</td>\n",
       "      <td>3.0</td>\n",
       "      <td>1.0</td>\n",
       "      <td>2009</td>\n",
       "    </tr>\n",
       "    <tr>\n",
       "      <th>4</th>\n",
       "      <td>1.0</td>\n",
       "      <td>0101</td>\n",
       "      <td>5.0</td>\n",
       "      <td>9.0</td>\n",
       "      <td>1.0</td>\n",
       "      <td>0101</td>\n",
       "      <td>9.0</td>\n",
       "      <td>2.0</td>\n",
       "      <td>7.0</td>\n",
       "      <td>5.0</td>\n",
       "      <td>...</td>\n",
       "      <td>1.0</td>\n",
       "      <td>0101</td>\n",
       "      <td>0.0</td>\n",
       "      <td>1.0</td>\n",
       "      <td>0101</td>\n",
       "      <td>X709</td>\n",
       "      <td>4.0</td>\n",
       "      <td>3.0</td>\n",
       "      <td>1.0</td>\n",
       "      <td>2009</td>\n",
       "    </tr>\n",
       "  </tbody>\n",
       "</table>\n",
       "<p>5 rows × 26 columns</p>\n",
       "</div>"
      ],
      "text/plain": [
       "   Depreg Mupreg  Mesreg  Añoreg  Depocu Mupocu  Areag  Sexo  Diaocu  Mesocu  \\\n",
       "0     5.0   0505     1.0     9.0     5.0   0505    9.0   1.0     2.0     1.0   \n",
       "1     1.0   0101     9.0     9.0     1.0   0101    9.0   1.0    27.0     9.0   \n",
       "2    22.0   2206     9.0     9.0    22.0   2206    9.0   2.0    23.0     8.0   \n",
       "3     2.0   0201    12.0     9.0     2.0   0201    9.0   1.0     5.0    12.0   \n",
       "4     1.0   0101     5.0     9.0     1.0   0101    9.0   2.0     7.0     5.0   \n",
       "\n",
       "   ...  Dnadif  Mnadif  Nacdif  Dredif  Mredif Caudef  Asist Ocur  Cerdef  \\\n",
       "0  ...     1.0    0101     0.0     1.0    0101   Y214    1.0  3.0     1.0   \n",
       "1  ...     1.0    0101     0.0     1.0    0101   X919    4.0  3.0     1.0   \n",
       "2  ...     1.0    0101     0.0     1.0    0101   X959    4.0  3.0     2.0   \n",
       "3  ...     1.0    0101     0.0     1.0    0101   V899    4.0  3.0     1.0   \n",
       "4  ...     1.0    0101     0.0     1.0    0101   X709    4.0  3.0     1.0   \n",
       "\n",
       "   year  \n",
       "0  2009  \n",
       "1  2009  \n",
       "2  2009  \n",
       "3  2009  \n",
       "4  2009  \n",
       "\n",
       "[5 rows x 26 columns]"
      ]
     },
     "execution_count": 8,
     "metadata": {},
     "output_type": "execute_result"
    }
   ],
   "source": [
    "defunciones = defunciones[defunciones.columns[:-6]]\n",
    "defunciones.head()"
   ]
  },
  {
   "cell_type": "markdown",
   "metadata": {},
   "source": [
    "### Observamos que tenemos algunas columnas con data perdida"
   ]
  },
  {
   "cell_type": "code",
   "execution_count": 9,
   "metadata": {},
   "outputs": [
    {
     "data": {
      "text/plain": [
       "Depreg    False\n",
       "Mupreg    False\n",
       "Mesreg    False\n",
       "Añoreg    False\n",
       "Depocu    False\n",
       "Mupocu    False\n",
       "Areag      True\n",
       "Sexo      False\n",
       "Diaocu    False\n",
       "Mesocu    False\n",
       "Añoocu     True\n",
       "Edadif    False\n",
       "Perdif    False\n",
       "Getdif     True\n",
       "Ecidif    False\n",
       "Ocudif     True\n",
       "Dnadif    False\n",
       "Mnadif    False\n",
       "Nacdif    False\n",
       "Dredif    False\n",
       "Mredif    False\n",
       "Caudef    False\n",
       "Asist     False\n",
       "Ocur      False\n",
       "Cerdef    False\n",
       "year      False\n",
       "dtype: bool"
      ]
     },
     "execution_count": 9,
     "metadata": {},
     "output_type": "execute_result"
    }
   ],
   "source": [
    "defunciones.isna().any()"
   ]
  },
  {
   "cell_type": "markdown",
   "metadata": {},
   "source": [
    "Se decidio llenar los vacios con 0 Puesto que si la columna es categórica entonces no habría problema\n",
    "porque a la hora de contar no se categorizaría al elemento"
   ]
  },
  {
   "cell_type": "code",
   "execution_count": 10,
   "metadata": {},
   "outputs": [
    {
     "data": {
      "text/html": [
       "<div>\n",
       "<style scoped>\n",
       "    .dataframe tbody tr th:only-of-type {\n",
       "        vertical-align: middle;\n",
       "    }\n",
       "\n",
       "    .dataframe tbody tr th {\n",
       "        vertical-align: top;\n",
       "    }\n",
       "\n",
       "    .dataframe thead th {\n",
       "        text-align: right;\n",
       "    }\n",
       "</style>\n",
       "<table border=\"1\" class=\"dataframe\">\n",
       "  <thead>\n",
       "    <tr style=\"text-align: right;\">\n",
       "      <th></th>\n",
       "      <th>Depreg</th>\n",
       "      <th>Mupreg</th>\n",
       "      <th>Mesreg</th>\n",
       "      <th>Añoreg</th>\n",
       "      <th>Depocu</th>\n",
       "      <th>Mupocu</th>\n",
       "      <th>Areag</th>\n",
       "      <th>Sexo</th>\n",
       "      <th>Diaocu</th>\n",
       "      <th>Mesocu</th>\n",
       "      <th>...</th>\n",
       "      <th>Dnadif</th>\n",
       "      <th>Mnadif</th>\n",
       "      <th>Nacdif</th>\n",
       "      <th>Dredif</th>\n",
       "      <th>Mredif</th>\n",
       "      <th>Caudef</th>\n",
       "      <th>Asist</th>\n",
       "      <th>Ocur</th>\n",
       "      <th>Cerdef</th>\n",
       "      <th>year</th>\n",
       "    </tr>\n",
       "  </thead>\n",
       "  <tbody>\n",
       "    <tr>\n",
       "      <th>0</th>\n",
       "      <td>5.0</td>\n",
       "      <td>0505</td>\n",
       "      <td>1.0</td>\n",
       "      <td>9.0</td>\n",
       "      <td>5.0</td>\n",
       "      <td>0505</td>\n",
       "      <td>9.0</td>\n",
       "      <td>1.0</td>\n",
       "      <td>2.0</td>\n",
       "      <td>1.0</td>\n",
       "      <td>...</td>\n",
       "      <td>1.0</td>\n",
       "      <td>0101</td>\n",
       "      <td>0.0</td>\n",
       "      <td>1.0</td>\n",
       "      <td>0101</td>\n",
       "      <td>Y214</td>\n",
       "      <td>1.0</td>\n",
       "      <td>3.0</td>\n",
       "      <td>1.0</td>\n",
       "      <td>2009</td>\n",
       "    </tr>\n",
       "    <tr>\n",
       "      <th>1</th>\n",
       "      <td>1.0</td>\n",
       "      <td>0101</td>\n",
       "      <td>9.0</td>\n",
       "      <td>9.0</td>\n",
       "      <td>1.0</td>\n",
       "      <td>0101</td>\n",
       "      <td>9.0</td>\n",
       "      <td>1.0</td>\n",
       "      <td>27.0</td>\n",
       "      <td>9.0</td>\n",
       "      <td>...</td>\n",
       "      <td>1.0</td>\n",
       "      <td>0101</td>\n",
       "      <td>0.0</td>\n",
       "      <td>1.0</td>\n",
       "      <td>0101</td>\n",
       "      <td>X919</td>\n",
       "      <td>4.0</td>\n",
       "      <td>3.0</td>\n",
       "      <td>1.0</td>\n",
       "      <td>2009</td>\n",
       "    </tr>\n",
       "    <tr>\n",
       "      <th>2</th>\n",
       "      <td>22.0</td>\n",
       "      <td>2206</td>\n",
       "      <td>9.0</td>\n",
       "      <td>9.0</td>\n",
       "      <td>22.0</td>\n",
       "      <td>2206</td>\n",
       "      <td>9.0</td>\n",
       "      <td>2.0</td>\n",
       "      <td>23.0</td>\n",
       "      <td>8.0</td>\n",
       "      <td>...</td>\n",
       "      <td>1.0</td>\n",
       "      <td>0101</td>\n",
       "      <td>0.0</td>\n",
       "      <td>1.0</td>\n",
       "      <td>0101</td>\n",
       "      <td>X959</td>\n",
       "      <td>4.0</td>\n",
       "      <td>3.0</td>\n",
       "      <td>2.0</td>\n",
       "      <td>2009</td>\n",
       "    </tr>\n",
       "    <tr>\n",
       "      <th>3</th>\n",
       "      <td>2.0</td>\n",
       "      <td>0201</td>\n",
       "      <td>12.0</td>\n",
       "      <td>9.0</td>\n",
       "      <td>2.0</td>\n",
       "      <td>0201</td>\n",
       "      <td>9.0</td>\n",
       "      <td>1.0</td>\n",
       "      <td>5.0</td>\n",
       "      <td>12.0</td>\n",
       "      <td>...</td>\n",
       "      <td>1.0</td>\n",
       "      <td>0101</td>\n",
       "      <td>0.0</td>\n",
       "      <td>1.0</td>\n",
       "      <td>0101</td>\n",
       "      <td>V899</td>\n",
       "      <td>4.0</td>\n",
       "      <td>3.0</td>\n",
       "      <td>1.0</td>\n",
       "      <td>2009</td>\n",
       "    </tr>\n",
       "    <tr>\n",
       "      <th>4</th>\n",
       "      <td>1.0</td>\n",
       "      <td>0101</td>\n",
       "      <td>5.0</td>\n",
       "      <td>9.0</td>\n",
       "      <td>1.0</td>\n",
       "      <td>0101</td>\n",
       "      <td>9.0</td>\n",
       "      <td>2.0</td>\n",
       "      <td>7.0</td>\n",
       "      <td>5.0</td>\n",
       "      <td>...</td>\n",
       "      <td>1.0</td>\n",
       "      <td>0101</td>\n",
       "      <td>0.0</td>\n",
       "      <td>1.0</td>\n",
       "      <td>0101</td>\n",
       "      <td>X709</td>\n",
       "      <td>4.0</td>\n",
       "      <td>3.0</td>\n",
       "      <td>1.0</td>\n",
       "      <td>2009</td>\n",
       "    </tr>\n",
       "  </tbody>\n",
       "</table>\n",
       "<p>5 rows × 26 columns</p>\n",
       "</div>"
      ],
      "text/plain": [
       "   Depreg Mupreg  Mesreg  Añoreg  Depocu Mupocu  Areag  Sexo  Diaocu  Mesocu  \\\n",
       "0     5.0   0505     1.0     9.0     5.0   0505    9.0   1.0     2.0     1.0   \n",
       "1     1.0   0101     9.0     9.0     1.0   0101    9.0   1.0    27.0     9.0   \n",
       "2    22.0   2206     9.0     9.0    22.0   2206    9.0   2.0    23.0     8.0   \n",
       "3     2.0   0201    12.0     9.0     2.0   0201    9.0   1.0     5.0    12.0   \n",
       "4     1.0   0101     5.0     9.0     1.0   0101    9.0   2.0     7.0     5.0   \n",
       "\n",
       "   ...  Dnadif  Mnadif  Nacdif  Dredif  Mredif Caudef  Asist Ocur  Cerdef  \\\n",
       "0  ...     1.0    0101     0.0     1.0    0101   Y214    1.0  3.0     1.0   \n",
       "1  ...     1.0    0101     0.0     1.0    0101   X919    4.0  3.0     1.0   \n",
       "2  ...     1.0    0101     0.0     1.0    0101   X959    4.0  3.0     2.0   \n",
       "3  ...     1.0    0101     0.0     1.0    0101   V899    4.0  3.0     1.0   \n",
       "4  ...     1.0    0101     0.0     1.0    0101   X709    4.0  3.0     1.0   \n",
       "\n",
       "   year  \n",
       "0  2009  \n",
       "1  2009  \n",
       "2  2009  \n",
       "3  2009  \n",
       "4  2009  \n",
       "\n",
       "[5 rows x 26 columns]"
      ]
     },
     "execution_count": 10,
     "metadata": {},
     "output_type": "execute_result"
    }
   ],
   "source": [
    "data = defunciones.fillna(0)\n",
    "data.head()"
   ]
  },
  {
   "cell_type": "code",
   "execution_count": 11,
   "metadata": {},
   "outputs": [
    {
     "name": "stdout",
     "output_type": "stream",
     "text": [
      "<class 'pandas.core.frame.DataFrame'>\n",
      "Int64Index: 852835 entries, 0 to 83070\n",
      "Data columns (total 26 columns):\n",
      " #   Column  Non-Null Count   Dtype  \n",
      "---  ------  --------------   -----  \n",
      " 0   Depreg  852835 non-null  float64\n",
      " 1   Mupreg  852835 non-null  object \n",
      " 2   Mesreg  852835 non-null  float64\n",
      " 3   Añoreg  852835 non-null  float64\n",
      " 4   Depocu  852835 non-null  float64\n",
      " 5   Mupocu  852835 non-null  object \n",
      " 6   Areag   852835 non-null  float64\n",
      " 7   Sexo    852835 non-null  float64\n",
      " 8   Diaocu  852835 non-null  float64\n",
      " 9   Mesocu  852835 non-null  float64\n",
      " 10  Añoocu  852835 non-null  float64\n",
      " 11  Edadif  852835 non-null  float64\n",
      " 12  Perdif  852835 non-null  float64\n",
      " 13  Getdif  852835 non-null  float64\n",
      " 14  Ecidif  852835 non-null  float64\n",
      " 15  Ocudif  852835 non-null  object \n",
      " 16  Dnadif  852835 non-null  float64\n",
      " 17  Mnadif  852835 non-null  object \n",
      " 18  Nacdif  852835 non-null  float64\n",
      " 19  Dredif  852835 non-null  float64\n",
      " 20  Mredif  852835 non-null  object \n",
      " 21  Caudef  852835 non-null  object \n",
      " 22  Asist   852835 non-null  float64\n",
      " 23  Ocur    852835 non-null  float64\n",
      " 24  Cerdef  852835 non-null  float64\n",
      " 25  year    852835 non-null  int64  \n",
      "dtypes: float64(19), int64(1), object(6)\n",
      "memory usage: 175.7+ MB\n"
     ]
    }
   ],
   "source": [
    "data.info()"
   ]
  },
  {
   "cell_type": "code",
   "execution_count": 12,
   "metadata": {},
   "outputs": [
    {
     "data": {
      "text/html": [
       "<div>\n",
       "<style scoped>\n",
       "    .dataframe tbody tr th:only-of-type {\n",
       "        vertical-align: middle;\n",
       "    }\n",
       "\n",
       "    .dataframe tbody tr th {\n",
       "        vertical-align: top;\n",
       "    }\n",
       "\n",
       "    .dataframe thead th {\n",
       "        text-align: right;\n",
       "    }\n",
       "</style>\n",
       "<table border=\"1\" class=\"dataframe\">\n",
       "  <thead>\n",
       "    <tr style=\"text-align: right;\">\n",
       "      <th></th>\n",
       "      <th>Depreg</th>\n",
       "      <th>Mesreg</th>\n",
       "      <th>Añoreg</th>\n",
       "      <th>Depocu</th>\n",
       "      <th>Areag</th>\n",
       "      <th>Sexo</th>\n",
       "      <th>Diaocu</th>\n",
       "      <th>Mesocu</th>\n",
       "      <th>Añoocu</th>\n",
       "      <th>Edadif</th>\n",
       "      <th>Perdif</th>\n",
       "      <th>Getdif</th>\n",
       "      <th>Ecidif</th>\n",
       "      <th>Dnadif</th>\n",
       "      <th>Nacdif</th>\n",
       "      <th>Dredif</th>\n",
       "      <th>Asist</th>\n",
       "      <th>Ocur</th>\n",
       "      <th>Cerdef</th>\n",
       "      <th>year</th>\n",
       "    </tr>\n",
       "  </thead>\n",
       "  <tbody>\n",
       "    <tr>\n",
       "      <th>count</th>\n",
       "      <td>852835.000000</td>\n",
       "      <td>852835.000000</td>\n",
       "      <td>852835.000000</td>\n",
       "      <td>852835.000000</td>\n",
       "      <td>852835.000000</td>\n",
       "      <td>852835.000000</td>\n",
       "      <td>852835.000000</td>\n",
       "      <td>852835.000000</td>\n",
       "      <td>852835.000000</td>\n",
       "      <td>852835.000000</td>\n",
       "      <td>852835.000000</td>\n",
       "      <td>852835.000000</td>\n",
       "      <td>852835.000000</td>\n",
       "      <td>852835.000000</td>\n",
       "      <td>852835.000000</td>\n",
       "      <td>852835.000000</td>\n",
       "      <td>852835.000000</td>\n",
       "      <td>852835.000000</td>\n",
       "      <td>852835.000000</td>\n",
       "      <td>852835.000000</td>\n",
       "    </tr>\n",
       "    <tr>\n",
       "      <th>mean</th>\n",
       "      <td>8.661829</td>\n",
       "      <td>6.449960</td>\n",
       "      <td>1677.597797</td>\n",
       "      <td>8.631780</td>\n",
       "      <td>1.443310</td>\n",
       "      <td>1.435825</td>\n",
       "      <td>15.660725</td>\n",
       "      <td>6.512994</td>\n",
       "      <td>1141.522993</td>\n",
       "      <td>60.583452</td>\n",
       "      <td>2.904944</td>\n",
       "      <td>1.437645</td>\n",
       "      <td>1.465609</td>\n",
       "      <td>11.944563</td>\n",
       "      <td>327.956870</td>\n",
       "      <td>15.185290</td>\n",
       "      <td>3.078046</td>\n",
       "      <td>4.606736</td>\n",
       "      <td>3.503178</td>\n",
       "      <td>2014.174788</td>\n",
       "    </tr>\n",
       "    <tr>\n",
       "      <th>std</th>\n",
       "      <td>6.703955</td>\n",
       "      <td>3.447516</td>\n",
       "      <td>750.227793</td>\n",
       "      <td>6.685237</td>\n",
       "      <td>1.207206</td>\n",
       "      <td>0.495865</td>\n",
       "      <td>8.816238</td>\n",
       "      <td>3.445861</td>\n",
       "      <td>997.464201</td>\n",
       "      <td>90.932889</td>\n",
       "      <td>0.729423</td>\n",
       "      <td>2.912192</td>\n",
       "      <td>0.994779</td>\n",
       "      <td>25.764765</td>\n",
       "      <td>779.472351</td>\n",
       "      <td>23.192926</td>\n",
       "      <td>1.955233</td>\n",
       "      <td>2.277649</td>\n",
       "      <td>3.674961</td>\n",
       "      <td>3.150224</td>\n",
       "    </tr>\n",
       "    <tr>\n",
       "      <th>min</th>\n",
       "      <td>1.000000</td>\n",
       "      <td>1.000000</td>\n",
       "      <td>9.000000</td>\n",
       "      <td>1.000000</td>\n",
       "      <td>0.000000</td>\n",
       "      <td>1.000000</td>\n",
       "      <td>1.000000</td>\n",
       "      <td>1.000000</td>\n",
       "      <td>0.000000</td>\n",
       "      <td>0.000000</td>\n",
       "      <td>1.000000</td>\n",
       "      <td>0.000000</td>\n",
       "      <td>1.000000</td>\n",
       "      <td>1.000000</td>\n",
       "      <td>0.000000</td>\n",
       "      <td>1.000000</td>\n",
       "      <td>1.000000</td>\n",
       "      <td>1.000000</td>\n",
       "      <td>1.000000</td>\n",
       "      <td>2009.000000</td>\n",
       "    </tr>\n",
       "    <tr>\n",
       "      <th>25%</th>\n",
       "      <td>1.000000</td>\n",
       "      <td>3.000000</td>\n",
       "      <td>2011.000000</td>\n",
       "      <td>1.000000</td>\n",
       "      <td>1.000000</td>\n",
       "      <td>1.000000</td>\n",
       "      <td>8.000000</td>\n",
       "      <td>4.000000</td>\n",
       "      <td>0.000000</td>\n",
       "      <td>29.000000</td>\n",
       "      <td>3.000000</td>\n",
       "      <td>0.000000</td>\n",
       "      <td>1.000000</td>\n",
       "      <td>4.000000</td>\n",
       "      <td>320.000000</td>\n",
       "      <td>3.000000</td>\n",
       "      <td>1.000000</td>\n",
       "      <td>3.000000</td>\n",
       "      <td>1.000000</td>\n",
       "      <td>2011.000000</td>\n",
       "    </tr>\n",
       "    <tr>\n",
       "      <th>50%</th>\n",
       "      <td>9.000000</td>\n",
       "      <td>6.000000</td>\n",
       "      <td>2014.000000</td>\n",
       "      <td>9.000000</td>\n",
       "      <td>1.000000</td>\n",
       "      <td>1.000000</td>\n",
       "      <td>16.000000</td>\n",
       "      <td>7.000000</td>\n",
       "      <td>2011.000000</td>\n",
       "      <td>59.000000</td>\n",
       "      <td>3.000000</td>\n",
       "      <td>0.000000</td>\n",
       "      <td>1.000000</td>\n",
       "      <td>10.000000</td>\n",
       "      <td>320.000000</td>\n",
       "      <td>10.000000</td>\n",
       "      <td>4.000000</td>\n",
       "      <td>6.000000</td>\n",
       "      <td>1.000000</td>\n",
       "      <td>2014.000000</td>\n",
       "    </tr>\n",
       "    <tr>\n",
       "      <th>75%</th>\n",
       "      <td>14.000000</td>\n",
       "      <td>9.000000</td>\n",
       "      <td>2017.000000</td>\n",
       "      <td>14.000000</td>\n",
       "      <td>2.000000</td>\n",
       "      <td>2.000000</td>\n",
       "      <td>23.000000</td>\n",
       "      <td>10.000000</td>\n",
       "      <td>2017.000000</td>\n",
       "      <td>78.000000</td>\n",
       "      <td>3.000000</td>\n",
       "      <td>1.000000</td>\n",
       "      <td>2.000000</td>\n",
       "      <td>16.000000</td>\n",
       "      <td>320.000000</td>\n",
       "      <td>16.000000</td>\n",
       "      <td>5.000000</td>\n",
       "      <td>6.000000</td>\n",
       "      <td>9.000000</td>\n",
       "      <td>2017.000000</td>\n",
       "    </tr>\n",
       "    <tr>\n",
       "      <th>max</th>\n",
       "      <td>22.000000</td>\n",
       "      <td>12.000000</td>\n",
       "      <td>2019.000000</td>\n",
       "      <td>22.000000</td>\n",
       "      <td>9.000000</td>\n",
       "      <td>2.000000</td>\n",
       "      <td>31.000000</td>\n",
       "      <td>12.000000</td>\n",
       "      <td>2018.000000</td>\n",
       "      <td>999.000000</td>\n",
       "      <td>9.000000</td>\n",
       "      <td>9.000000</td>\n",
       "      <td>9.000000</td>\n",
       "      <td>9999.000000</td>\n",
       "      <td>9999.000000</td>\n",
       "      <td>99.000000</td>\n",
       "      <td>9.000000</td>\n",
       "      <td>9.000000</td>\n",
       "      <td>9.000000</td>\n",
       "      <td>2019.000000</td>\n",
       "    </tr>\n",
       "  </tbody>\n",
       "</table>\n",
       "</div>"
      ],
      "text/plain": [
       "              Depreg         Mesreg         Añoreg         Depocu  \\\n",
       "count  852835.000000  852835.000000  852835.000000  852835.000000   \n",
       "mean        8.661829       6.449960    1677.597797       8.631780   \n",
       "std         6.703955       3.447516     750.227793       6.685237   \n",
       "min         1.000000       1.000000       9.000000       1.000000   \n",
       "25%         1.000000       3.000000    2011.000000       1.000000   \n",
       "50%         9.000000       6.000000    2014.000000       9.000000   \n",
       "75%        14.000000       9.000000    2017.000000      14.000000   \n",
       "max        22.000000      12.000000    2019.000000      22.000000   \n",
       "\n",
       "               Areag           Sexo         Diaocu         Mesocu  \\\n",
       "count  852835.000000  852835.000000  852835.000000  852835.000000   \n",
       "mean        1.443310       1.435825      15.660725       6.512994   \n",
       "std         1.207206       0.495865       8.816238       3.445861   \n",
       "min         0.000000       1.000000       1.000000       1.000000   \n",
       "25%         1.000000       1.000000       8.000000       4.000000   \n",
       "50%         1.000000       1.000000      16.000000       7.000000   \n",
       "75%         2.000000       2.000000      23.000000      10.000000   \n",
       "max         9.000000       2.000000      31.000000      12.000000   \n",
       "\n",
       "              Añoocu         Edadif         Perdif         Getdif  \\\n",
       "count  852835.000000  852835.000000  852835.000000  852835.000000   \n",
       "mean     1141.522993      60.583452       2.904944       1.437645   \n",
       "std       997.464201      90.932889       0.729423       2.912192   \n",
       "min         0.000000       0.000000       1.000000       0.000000   \n",
       "25%         0.000000      29.000000       3.000000       0.000000   \n",
       "50%      2011.000000      59.000000       3.000000       0.000000   \n",
       "75%      2017.000000      78.000000       3.000000       1.000000   \n",
       "max      2018.000000     999.000000       9.000000       9.000000   \n",
       "\n",
       "              Ecidif         Dnadif         Nacdif         Dredif  \\\n",
       "count  852835.000000  852835.000000  852835.000000  852835.000000   \n",
       "mean        1.465609      11.944563     327.956870      15.185290   \n",
       "std         0.994779      25.764765     779.472351      23.192926   \n",
       "min         1.000000       1.000000       0.000000       1.000000   \n",
       "25%         1.000000       4.000000     320.000000       3.000000   \n",
       "50%         1.000000      10.000000     320.000000      10.000000   \n",
       "75%         2.000000      16.000000     320.000000      16.000000   \n",
       "max         9.000000    9999.000000    9999.000000      99.000000   \n",
       "\n",
       "               Asist           Ocur         Cerdef           year  \n",
       "count  852835.000000  852835.000000  852835.000000  852835.000000  \n",
       "mean        3.078046       4.606736       3.503178    2014.174788  \n",
       "std         1.955233       2.277649       3.674961       3.150224  \n",
       "min         1.000000       1.000000       1.000000    2009.000000  \n",
       "25%         1.000000       3.000000       1.000000    2011.000000  \n",
       "50%         4.000000       6.000000       1.000000    2014.000000  \n",
       "75%         5.000000       6.000000       9.000000    2017.000000  \n",
       "max         9.000000       9.000000       9.000000    2019.000000  "
      ]
     },
     "execution_count": 12,
     "metadata": {},
     "output_type": "execute_result"
    }
   ],
   "source": [
    "data.describe()"
   ]
  },
  {
   "cell_type": "code",
   "execution_count": 13,
   "metadata": {},
   "outputs": [
    {
     "data": {
      "text/plain": [
       "array(['Departamento de registro', nan, 'Municipio de registro',\n",
       "       'Mes de registro', 'Año de registro', 'Departamento de ocurrencia',\n",
       "       'Municipio de ocurrencia', 'Área geográfica de ocurrencia',\n",
       "       'Sexo del difunto(a)', 'Día de ocurrencia', 'Mes de ocurrencia',\n",
       "       'Edad del difunto(a)', 'Periodo de edad del difunto(a)',\n",
       "       'Grupo étnico del difunto(a)', 'Estado civil del difunto(a)',\n",
       "       'Ocupación del difunto(a)',\n",
       "       'Departamento de nacimiento del difunto(a)',\n",
       "       'Municipio de nacimiento del difunto(a)',\n",
       "       'Nacionalidad del difunto(a)',\n",
       "       'Departamento de residencia del difunto(a)',\n",
       "       'Municipio de residencia del difunto(a)', 'Causa de defuncion',\n",
       "       'Asistencia recibida', 'Sitio de ocurrencia', 'Quien certifica'],\n",
       "      dtype=object)"
      ]
     },
     "execution_count": 13,
     "metadata": {},
     "output_type": "execute_result"
    }
   ],
   "source": [
    "dic = pd.read_excel(\"Data/diccionario.xlsx\",sheet_name=\"Defunciones\",skiprows = [0])\n",
    "dic[\"Valor\"].unique()"
   ]
  },
  {
   "cell_type": "markdown",
   "metadata": {},
   "source": [
    "Notese que los departamentos que tienen más fallecidos son Guatemala, Quetzaltenango, Altaverapaz y San Marcos"
   ]
  },
  {
   "cell_type": "code",
   "execution_count": 14,
   "metadata": {},
   "outputs": [
    {
     "data": {
      "text/plain": [
       "1.0     249554\n",
       "9.0      52543\n",
       "16.0     52122\n",
       "12.0     50036\n",
       "5.0      48986\n",
       "Name: Depocu, dtype: int64"
      ]
     },
     "execution_count": 14,
     "metadata": {},
     "output_type": "execute_result"
    }
   ],
   "source": [
    "a = data[\"Depocu\"].value_counts()\n",
    "a[:5]"
   ]
  },
  {
   "cell_type": "code",
   "execution_count": 15,
   "metadata": {},
   "outputs": [
    {
     "data": {
      "text/plain": [
       "<matplotlib.axes._subplots.AxesSubplot at 0x7ff4646ed0b8>"
      ]
     },
     "execution_count": 15,
     "metadata": {},
     "output_type": "execute_result"
    },
    {
     "data": {
      "image/png": "[encoded data removed]",
      "text/plain": [
       "<Figure size 432x288 with 1 Axes>"
      ]
     },
     "metadata": {
      "needs_background": "light"
     },
     "output_type": "display_data"
    }
   ],
   "source": [
    "sns.countplot(y=data[\"Depocu\"])"
   ]
  },
  {
   "cell_type": "markdown",
   "metadata": {},
   "source": [
    "Por otro lado los municipios donde más gente fallece es Guatemala,Quetzaltenango, Escuintla y Mazatenango"
   ]
  },
  {
   "cell_type": "code",
   "execution_count": 16,
   "metadata": {},
   "outputs": [
    {
     "data": {
      "text/plain": [
       "0101    169866\n",
       "0108     20203\n",
       "0501     19938\n",
       "0901     18712\n",
       "1601     13763\n",
       "Name: Mupocu, dtype: int64"
      ]
     },
     "execution_count": 16,
     "metadata": {},
     "output_type": "execute_result"
    }
   ],
   "source": [
    "a = data[\"Mupocu\"].value_counts()\n",
    "a[:5]"
   ]
  },
  {
   "cell_type": "code",
   "execution_count": 17,
   "metadata": {},
   "outputs": [
    {
     "name": "stderr",
     "output_type": "stream",
     "text": [
      "/Library/Frameworks/Python.framework/Versions/3.7/lib/python3.7/site-packages/seaborn/_decorators.py:43: FutureWarning: Pass the following variables as keyword args: x, y. From version 0.12, the only valid positional argument will be `data`, and passing other arguments without an explicit keyword will result in an error or misinterpretation.\n",
      "  FutureWarning\n"
     ]
    },
    {
     "data": {
      "text/plain": [
       "<matplotlib.axes._subplots.AxesSubplot at 0x7ff46768eba8>"
      ]
     },
     "execution_count": 17,
     "metadata": {},
     "output_type": "execute_result"
    },
    {
     "data": {
      "image/png": "[encoded data removed]",
      "text/plain": [
       "<Figure size 432x288 with 1 Axes>"
      ]
     },
     "metadata": {
      "needs_background": "light"
     },
     "output_type": "display_data"
    }
   ],
   "source": [
    "b = a[:5]\n",
    "sns.barplot(b.index,b)"
   ]
  },
  {
   "cell_type": "markdown",
   "metadata": {},
   "source": [
    "Los meses donde la gente fallecio mas fuel mes de Enero, Julio y Mayo. Aunque no hay mucha diferencia con el resto. Yo no la consideraría una variable para un modelo puesto que apenas hay alguna diferencia."
   ]
  },
  {
   "cell_type": "code",
   "execution_count": 18,
   "metadata": {},
   "outputs": [
    {
     "data": {
      "text/plain": [
       "7.0     73479\n",
       "1.0     72792\n",
       "3.0     72758\n",
       "12.0    72659\n",
       "8.0     72119\n",
       "4.0     71605\n",
       "10.0    71602\n",
       "5.0     71560\n",
       "Name: Mesocu, dtype: int64"
      ]
     },
     "execution_count": 18,
     "metadata": {},
     "output_type": "execute_result"
    }
   ],
   "source": [
    "a = data[\"Mesocu\"].value_counts()\n",
    "a[:5]"
   ]
  },
  {
   "cell_type": "code",
   "execution_count": 19,
   "metadata": {},
   "outputs": [
    {
     "name": "stderr",
     "output_type": "stream",
     "text": [
      "/Library/Frameworks/Python.framework/Versions/3.7/lib/python3.7/site-packages/seaborn/_decorators.py:43: FutureWarning: Pass the following variables as keyword args: x, y. From version 0.12, the only valid positional argument will be `data`, and passing other arguments without an explicit keyword will result in an error or misinterpretation.\n",
      "  FutureWarning\n"
     ]
    },
    {
     "data": {
      "text/plain": [
       "<matplotlib.axes._subplots.AxesSubplot at 0x7ff45c6d59b0>"
      ]
     },
     "execution_count": 19,
     "metadata": {},
     "output_type": "execute_result"
    },
    {
     "data": {
      "image/png": "[encoded data removed]",
      "text/plain": [
       "<Figure size 432x288 with 1 Axes>"
      ]
     },
     "metadata": {
      "needs_background": "light"
     },
     "output_type": "display_data"
    }
   ],
   "source": [
    "sns.barplot(a.index,a)"
   ]
  },
  {
   "cell_type": "markdown",
   "metadata": {},
   "source": [
    "Si ignoramos la categoría donde se llenaron los datos no disponibles vemos que ha ido en aumento el número de defunciones en Guatemala, en este periodo han aumentado más de 10000 muertes"
   ]
  },
  {
   "cell_type": "code",
   "execution_count": 20,
   "metadata": {},
   "outputs": [
    {
     "data": {
      "text/plain": [
       "0.0       227103\n",
       "2017.0    163452\n",
       "9.0       143414\n",
       "2018.0     83071\n",
       "2016.0     82565\n",
       "2015.0     80876\n",
       "2011.0     72354\n",
       "Name: Añoocu, dtype: int64"
      ]
     },
     "execution_count": 20,
     "metadata": {},
     "output_type": "execute_result"
    }
   ],
   "source": [
    "a = data[\"Añoocu\"].value_counts()\n",
    "a"
   ]
  },
  {
   "cell_type": "code",
   "execution_count": 21,
   "metadata": {},
   "outputs": [
    {
     "name": "stderr",
     "output_type": "stream",
     "text": [
      "/Library/Frameworks/Python.framework/Versions/3.7/lib/python3.7/site-packages/seaborn/_decorators.py:43: FutureWarning: Pass the following variables as keyword args: x, y. From version 0.12, the only valid positional argument will be `data`, and passing other arguments without an explicit keyword will result in an error or misinterpretation.\n",
      "  FutureWarning\n"
     ]
    },
    {
     "data": {
      "text/plain": [
       "<matplotlib.axes._subplots.AxesSubplot at 0x7ff45d799668>"
      ]
     },
     "execution_count": 21,
     "metadata": {},
     "output_type": "execute_result"
    },
    {
     "data": {
      "image/png": "[encoded data removed]",
      "text/plain": [
       "<Figure size 432x288 with 1 Axes>"
      ]
     },
     "metadata": {
      "needs_background": "light"
     },
     "output_type": "display_data"
    }
   ],
   "source": [
    "sns.barplot(a.index,a)"
   ]
  },
  {
   "cell_type": "markdown",
   "metadata": {},
   "source": [
    "Claramente vemos como es que los hombres murieron más que las mujeres, sin embargo la proporción es bastante similar"
   ]
  },
  {
   "cell_type": "code",
   "execution_count": 22,
   "metadata": {},
   "outputs": [
    {
     "data": {
      "text/plain": [
       "1.0    481148\n",
       "2.0    371687\n",
       "Name: Sexo, dtype: int64"
      ]
     },
     "execution_count": 22,
     "metadata": {},
     "output_type": "execute_result"
    }
   ],
   "source": [
    "a = data[\"Sexo\"].value_counts()\n",
    "a"
   ]
  },
  {
   "cell_type": "code",
   "execution_count": 23,
   "metadata": {},
   "outputs": [
    {
     "data": {
      "text/plain": [
       "Text(0.5, 1.0, 'Hombres y mujeres fallecidos entre 2009 a 2019')"
      ]
     },
     "execution_count": 23,
     "metadata": {},
     "output_type": "execute_result"
    },
    {
     "data": {
      "image/png": "[encoded data removed]",
      "text/plain": [
       "<Figure size 432x288 with 1 Axes>"
      ]
     },
     "metadata": {},
     "output_type": "display_data"
    }
   ],
   "source": [
    "plt.pie(a,labels=a.index,autopct='%1.2f%%')\n",
    "plt.title(\"Hombres y mujeres fallecidos entre 2009 a 2019\")"
   ]
  },
  {
   "cell_type": "markdown",
   "metadata": {},
   "source": [
    "Vemos que ha medida que las personas van aumentando de edad también aumenta la probabilidad de fallecer puesto que el histogram tiene una asimetría hacia la izquierda. Sin embargo hasta la izquierda tenemos un gran número de defunciones que son los niños menores de un año "
   ]
  },
  {
   "cell_type": "code",
   "execution_count": 24,
   "metadata": {},
   "outputs": [
    {
     "data": {
      "text/plain": [
       "0.25    29.0\n",
       "0.50    59.0\n",
       "0.75    78.0\n",
       "Name: Edadif, dtype: float64"
      ]
     },
     "execution_count": 24,
     "metadata": {},
     "output_type": "execute_result"
    },
    {
     "data": {
      "image/png": "[encoded data removed]",
      "text/plain": [
       "<Figure size 360x360 with 1 Axes>"
      ]
     },
     "metadata": {
      "needs_background": "light"
     },
     "output_type": "display_data"
    }
   ],
   "source": [
    "sns.catplot(x = \"Edadif\",\n",
    "           data = data,\n",
    "           kind = \"box\", \n",
    "           sym = \"\", # to ommit the points that are so far\n",
    "           )\n",
    "data.Edadif.quantile([0.25,0.5,0.75])"
   ]
  },
  {
   "cell_type": "code",
   "execution_count": 25,
   "metadata": {},
   "outputs": [
    {
     "data": {
      "text/plain": [
       "array([[<matplotlib.axes._subplots.AxesSubplot object at 0x7ff474f46278>]],\n",
       "      dtype=object)"
      ]
     },
     "execution_count": 25,
     "metadata": {},
     "output_type": "execute_result"
    },
    {
     "data": {
      "image/png": "[encoded data removed]",
      "text/plain": [
       "<Figure size 554.4x307.44 with 1 Axes>"
      ]
     },
     "metadata": {
      "needs_background": "light"
     },
     "output_type": "display_data"
    }
   ],
   "source": [
    "from matplotlib import rcParams\n",
    "rcParams['figure.figsize'] = 7.7,4.27\n",
    "# Los datos atipicos que removimos aca fueron porque hubo un mal ingreso de datos porque el dato era de 999\n",
    "data = data[data[\"Edadif\"] < 200]\n",
    "data.hist('Edadif',bins=14)"
   ]
  },
  {
   "cell_type": "markdown",
   "metadata": {},
   "source": [
    "Vemos que las personas que no son del grupo índigena fallecieron más que las personas que si pertenecen a este grupo, pero esta variable no la tomaria en cuenta debido a la poca cantidad de datos "
   ]
  },
  {
   "cell_type": "code",
   "execution_count": 26,
   "metadata": {},
   "outputs": [
    {
     "data": {
      "text/plain": [
       "0.0    560119\n",
       "9.0    103521\n",
       "2.0     95016\n",
       "1.0     87019\n",
       "Name: Getdif, dtype: int64"
      ]
     },
     "execution_count": 26,
     "metadata": {},
     "output_type": "execute_result"
    }
   ],
   "source": [
    "a = data[\"Getdif\"].value_counts()\n",
    "a"
   ]
  },
  {
   "cell_type": "code",
   "execution_count": 27,
   "metadata": {},
   "outputs": [
    {
     "name": "stderr",
     "output_type": "stream",
     "text": [
      "/Library/Frameworks/Python.framework/Versions/3.7/lib/python3.7/site-packages/seaborn/_decorators.py:43: FutureWarning: Pass the following variables as keyword args: x, y. From version 0.12, the only valid positional argument will be `data`, and passing other arguments without an explicit keyword will result in an error or misinterpretation.\n",
      "  FutureWarning\n"
     ]
    },
    {
     "data": {
      "text/plain": [
       "<matplotlib.axes._subplots.AxesSubplot at 0x7ff42c5503c8>"
      ]
     },
     "execution_count": 27,
     "metadata": {},
     "output_type": "execute_result"
    },
    {
     "data": {
      "image/png": "[encoded data removed]",
      "text/plain": [
       "<Figure size 554.4x307.44 with 1 Axes>"
      ]
     },
     "metadata": {
      "needs_background": "light"
     },
     "output_type": "display_data"
    }
   ],
   "source": [
    "sns.barplot(a.index,a)"
   ]
  },
  {
   "cell_type": "markdown",
   "metadata": {},
   "source": [
    "Vemos que las personas que están solteras fueron las más fallecieron a lo largo de este período "
   ]
  },
  {
   "cell_type": "code",
   "execution_count": 28,
   "metadata": {},
   "outputs": [
    {
     "data": {
      "text/plain": [
       "1.0    536530\n",
       "2.0    292669\n",
       "9.0      8519\n",
       "3.0      7957\n",
       "Name: Ecidif, dtype: int64"
      ]
     },
     "execution_count": 28,
     "metadata": {},
     "output_type": "execute_result"
    }
   ],
   "source": [
    "a = data['Ecidif'].value_counts()\n",
    "a"
   ]
  },
  {
   "cell_type": "code",
   "execution_count": 29,
   "metadata": {},
   "outputs": [
    {
     "name": "stderr",
     "output_type": "stream",
     "text": [
      "/Library/Frameworks/Python.framework/Versions/3.7/lib/python3.7/site-packages/seaborn/_decorators.py:43: FutureWarning: Pass the following variables as keyword args: x, y. From version 0.12, the only valid positional argument will be `data`, and passing other arguments without an explicit keyword will result in an error or misinterpretation.\n",
      "  FutureWarning\n"
     ]
    },
    {
     "data": {
      "text/plain": [
       "<matplotlib.axes._subplots.AxesSubplot at 0x7ff45da6de10>"
      ]
     },
     "execution_count": 29,
     "metadata": {},
     "output_type": "execute_result"
    },
    {
     "data": {
      "image/png": "[encoded data removed]",
      "text/plain": [
       "<Figure size 554.4x307.44 with 1 Axes>"
      ]
     },
     "metadata": {
      "needs_background": "light"
     },
     "output_type": "display_data"
    }
   ],
   "source": [
    "sns.barplot(a.index,a)"
   ]
  },
  {
   "cell_type": "markdown",
   "metadata": {},
   "source": [
    "Las ocupaciones de las personas que más fallecieron fueron las de trabajos domésticos no remunerados, peones de explotaciones agrícolas, agricultores y trabajadores calificados de cultivos extensivos, Estudiante"
   ]
  },
  {
   "cell_type": "code",
   "execution_count": 30,
   "metadata": {},
   "outputs": [
    {
     "data": {
      "text/plain": [
       "9711    81831\n",
       "9211    54481\n",
       "9714    43132\n",
       "6111    23204\n",
       "9712    18713\n",
       "Name: Ocudif, dtype: int64"
      ]
     },
     "execution_count": 30,
     "metadata": {},
     "output_type": "execute_result"
    }
   ],
   "source": [
    "a = data['Ocudif'].value_counts()\n",
    "a[1:6]"
   ]
  },
  {
   "cell_type": "code",
   "execution_count": 31,
   "metadata": {},
   "outputs": [
    {
     "name": "stderr",
     "output_type": "stream",
     "text": [
      "/Library/Frameworks/Python.framework/Versions/3.7/lib/python3.7/site-packages/seaborn/_decorators.py:43: FutureWarning: Pass the following variables as keyword args: x, y. From version 0.12, the only valid positional argument will be `data`, and passing other arguments without an explicit keyword will result in an error or misinterpretation.\n",
      "  FutureWarning\n"
     ]
    },
    {
     "data": {
      "text/plain": [
       "<matplotlib.axes._subplots.AxesSubplot at 0x7ff42cc9d0b8>"
      ]
     },
     "execution_count": 31,
     "metadata": {},
     "output_type": "execute_result"
    },
    {
     "data": {
      "image/png": "[encoded data removed]",
      "text/plain": [
       "<Figure size 554.4x307.44 with 1 Axes>"
      ]
     },
     "metadata": {
      "needs_background": "light"
     },
     "output_type": "display_data"
    }
   ],
   "source": [
    "b = a[1:6]\n",
    "sns.barplot(b.index,b)"
   ]
  },
  {
   "cell_type": "markdown",
   "metadata": {},
   "source": [
    "Los departamentos donde nacieron la mayoria de los difuntos son Guatemala, San Marcos, Alta Verapaz y Huehuetenango"
   ]
  },
  {
   "cell_type": "code",
   "execution_count": 32,
   "metadata": {},
   "outputs": [
    {
     "data": {
      "text/plain": [
       "1.0     150096\n",
       "12.0     60023\n",
       "16.0     56215\n",
       "13.0     51176\n",
       "9.0      50694\n",
       "Name: Dnadif, dtype: int64"
      ]
     },
     "execution_count": 32,
     "metadata": {},
     "output_type": "execute_result"
    }
   ],
   "source": [
    "a = data['Dnadif'].value_counts()\n",
    "a[:9]\n"
   ]
  },
  {
   "cell_type": "code",
   "execution_count": 33,
   "metadata": {},
   "outputs": [
    {
     "name": "stderr",
     "output_type": "stream",
     "text": [
      "/Library/Frameworks/Python.framework/Versions/3.7/lib/python3.7/site-packages/seaborn/_decorators.py:43: FutureWarning: Pass the following variables as keyword args: x, y. From version 0.12, the only valid positional argument will be `data`, and passing other arguments without an explicit keyword will result in an error or misinterpretation.\n",
      "  FutureWarning\n"
     ]
    },
    {
     "data": {
      "image/png": "[encoded data removed]",
      "text/plain": [
       "<Figure size 554.4x307.44 with 1 Axes>"
      ]
     },
     "metadata": {
      "needs_background": "light"
     },
     "output_type": "display_data"
    }
   ],
   "source": [
    "g = sns.barplot(a.index,a)"
   ]
  },
  {
   "cell_type": "markdown",
   "metadata": {},
   "source": [
    "Las causas principales de fallecimiento fueron: Infarto agudo del miocardio, sin otra especificación, Neumonía, no especificada, Diabetes mellitus no especificada, sin mención de complicación, Muerte sin asistencia, Exposición a factores no especificados, causando otras lesiones y las no especificadas."
   ]
  },
  {
   "cell_type": "code",
   "execution_count": 34,
   "metadata": {},
   "outputs": [
    {
     "data": {
      "text/plain": [
       "I219    54027\n",
       "J189    53038\n",
       "E149    29872\n",
       "X599    28308\n",
       "R98X    28099\n",
       "Name: Caudef, dtype: int64"
      ]
     },
     "execution_count": 34,
     "metadata": {},
     "output_type": "execute_result"
    }
   ],
   "source": [
    "a = data['Caudef'].value_counts()\n",
    "a[:5]"
   ]
  },
  {
   "cell_type": "code",
   "execution_count": 35,
   "metadata": {},
   "outputs": [
    {
     "name": "stderr",
     "output_type": "stream",
     "text": [
      "/Library/Frameworks/Python.framework/Versions/3.7/lib/python3.7/site-packages/seaborn/_decorators.py:43: FutureWarning: Pass the following variables as keyword args: x, y. From version 0.12, the only valid positional argument will be `data`, and passing other arguments without an explicit keyword will result in an error or misinterpretation.\n",
      "  FutureWarning\n"
     ]
    },
    {
     "data": {
      "image/png": "[encoded data removed]",
      "text/plain": [
       "<Figure size 554.4x307.44 with 1 Axes>"
      ]
     },
     "metadata": {
      "needs_background": "light"
     },
     "output_type": "display_data"
    }
   ],
   "source": [
    "b = a[:5]\n",
    "g = sns.barplot(b.index,b)"
   ]
  },
  {
   "cell_type": "markdown",
   "metadata": {},
   "source": [
    "La gran mayoría no recibio ninguna asistencia, aunque su proporción es bastante parecida con los que recibieron atención médica, muy por atrás encontramos la asistencia empírica y los otros tipos de asistencia."
   ]
  },
  {
   "cell_type": "code",
   "execution_count": 36,
   "metadata": {},
   "outputs": [
    {
     "data": {
      "text/plain": [
       "1.0    383618\n",
       "5.0    355526\n",
       "4.0     93984\n",
       "9.0      5056\n",
       "3.0      4361\n",
       "2.0      3130\n",
       "Name: Asist, dtype: int64"
      ]
     },
     "execution_count": 36,
     "metadata": {},
     "output_type": "execute_result"
    }
   ],
   "source": [
    "a = data['Asist'].value_counts()\n",
    "a"
   ]
  },
  {
   "cell_type": "code",
   "execution_count": 37,
   "metadata": {},
   "outputs": [
    {
     "name": "stderr",
     "output_type": "stream",
     "text": [
      "/Library/Frameworks/Python.framework/Versions/3.7/lib/python3.7/site-packages/seaborn/_decorators.py:43: FutureWarning: Pass the following variables as keyword args: x, y. From version 0.12, the only valid positional argument will be `data`, and passing other arguments without an explicit keyword will result in an error or misinterpretation.\n",
      "  FutureWarning\n"
     ]
    },
    {
     "data": {
      "image/png": "[encoded data removed]",
      "text/plain": [
       "<Figure size 554.4x307.44 with 1 Axes>"
      ]
     },
     "metadata": {
      "needs_background": "light"
     },
     "output_type": "display_data"
    }
   ],
   "source": [
    "g = sns.barplot(a.index,a)"
   ]
  },
  {
   "cell_type": "code",
   "execution_count": 38,
   "metadata": {},
   "outputs": [
    {
     "data": {
      "text/plain": [
       "0        1.0\n",
       "1        4.0\n",
       "2        4.0\n",
       "3        4.0\n",
       "4        4.0\n",
       "        ... \n",
       "83066    1.0\n",
       "83067    1.0\n",
       "83068    5.0\n",
       "83069    9.0\n",
       "83070    1.0\n",
       "Name: Asist, Length: 845675, dtype: float64"
      ]
     },
     "execution_count": 38,
     "metadata": {},
     "output_type": "execute_result"
    }
   ],
   "source": [
    "data['Asist']"
   ]
  },
  {
   "cell_type": "markdown",
   "metadata": {},
   "source": [
    "Podemos observar que a lo largo de los años la cantidad de defunciones ha ido en aumento, podemos observar que en este periodo de 10 años han aumentado las defunciones aproximadamente "
   ]
  },
  {
   "cell_type": "code",
   "execution_count": 39,
   "metadata": {
    "scrolled": true
   },
   "outputs": [
    {
     "data": {
      "text/plain": [
       "<matplotlib.axes._subplots.AxesSubplot at 0x7ff45d949438>"
      ]
     },
     "execution_count": 39,
     "metadata": {},
     "output_type": "execute_result"
    },
    {
     "data": {
      "image/png": "[encoded data removed]",
      "text/plain": [
       "<Figure size 554.4x307.44 with 1 Axes>"
      ]
     },
     "metadata": {
      "needs_background": "light"
     },
     "output_type": "display_data"
    }
   ],
   "source": [
    "sns.countplot(y=data[\"year\"])"
   ]
  },
  {
   "cell_type": "markdown",
   "metadata": {},
   "source": [
    "### Cruzando variables"
   ]
  },
  {
   "cell_type": "markdown",
   "metadata": {},
   "source": [
    "En la siguiente tabla cruzamos el departamento donde se registro el difunto y el departamento de residia el difunto, encontramos por ejemplo que son más de 50000 personas las que vivían en el departamento de Guatemala pero sin embargo fallecieron fuera de este departamento"
   ]
  },
  {
   "cell_type": "code",
   "execution_count": 40,
   "metadata": {
    "scrolled": true
   },
   "outputs": [
    {
     "data": {
      "text/html": [
       "<div>\n",
       "<style scoped>\n",
       "    .dataframe tbody tr th:only-of-type {\n",
       "        vertical-align: middle;\n",
       "    }\n",
       "\n",
       "    .dataframe tbody tr th {\n",
       "        vertical-align: top;\n",
       "    }\n",
       "\n",
       "    .dataframe thead th {\n",
       "        text-align: right;\n",
       "    }\n",
       "</style>\n",
       "<table border=\"1\" class=\"dataframe\">\n",
       "  <thead>\n",
       "    <tr style=\"text-align: right;\">\n",
       "      <th>Dredif</th>\n",
       "      <th>1.0</th>\n",
       "      <th>2.0</th>\n",
       "      <th>3.0</th>\n",
       "      <th>4.0</th>\n",
       "      <th>5.0</th>\n",
       "      <th>6.0</th>\n",
       "      <th>7.0</th>\n",
       "      <th>8.0</th>\n",
       "      <th>9.0</th>\n",
       "      <th>10.0</th>\n",
       "      <th>...</th>\n",
       "      <th>16.0</th>\n",
       "      <th>17.0</th>\n",
       "      <th>18.0</th>\n",
       "      <th>19.0</th>\n",
       "      <th>20.0</th>\n",
       "      <th>21.0</th>\n",
       "      <th>22.0</th>\n",
       "      <th>23.0</th>\n",
       "      <th>99.0</th>\n",
       "      <th>All</th>\n",
       "    </tr>\n",
       "    <tr>\n",
       "      <th>Depreg</th>\n",
       "      <th></th>\n",
       "      <th></th>\n",
       "      <th></th>\n",
       "      <th></th>\n",
       "      <th></th>\n",
       "      <th></th>\n",
       "      <th></th>\n",
       "      <th></th>\n",
       "      <th></th>\n",
       "      <th></th>\n",
       "      <th></th>\n",
       "      <th></th>\n",
       "      <th></th>\n",
       "      <th></th>\n",
       "      <th></th>\n",
       "      <th></th>\n",
       "      <th></th>\n",
       "      <th></th>\n",
       "      <th></th>\n",
       "      <th></th>\n",
       "      <th></th>\n",
       "    </tr>\n",
       "  </thead>\n",
       "  <tbody>\n",
       "    <tr>\n",
       "      <th>1.0</th>\n",
       "      <td>189713</td>\n",
       "      <td>2365</td>\n",
       "      <td>2649</td>\n",
       "      <td>2539</td>\n",
       "      <td>5583</td>\n",
       "      <td>3276</td>\n",
       "      <td>899</td>\n",
       "      <td>602</td>\n",
       "      <td>1708</td>\n",
       "      <td>2154</td>\n",
       "      <td>...</td>\n",
       "      <td>1998</td>\n",
       "      <td>1265</td>\n",
       "      <td>2119</td>\n",
       "      <td>1748</td>\n",
       "      <td>1379</td>\n",
       "      <td>1628</td>\n",
       "      <td>3464</td>\n",
       "      <td>720</td>\n",
       "      <td>15131</td>\n",
       "      <td>249179</td>\n",
       "    </tr>\n",
       "    <tr>\n",
       "      <th>2.0</th>\n",
       "      <td>203</td>\n",
       "      <td>8188</td>\n",
       "      <td>3</td>\n",
       "      <td>5</td>\n",
       "      <td>16</td>\n",
       "      <td>8</td>\n",
       "      <td>2</td>\n",
       "      <td>2</td>\n",
       "      <td>6</td>\n",
       "      <td>8</td>\n",
       "      <td>...</td>\n",
       "      <td>35</td>\n",
       "      <td>9</td>\n",
       "      <td>61</td>\n",
       "      <td>52</td>\n",
       "      <td>13</td>\n",
       "      <td>55</td>\n",
       "      <td>18</td>\n",
       "      <td>14</td>\n",
       "      <td>193</td>\n",
       "      <td>8930</td>\n",
       "    </tr>\n",
       "    <tr>\n",
       "      <th>3.0</th>\n",
       "      <td>780</td>\n",
       "      <td>13</td>\n",
       "      <td>14272</td>\n",
       "      <td>579</td>\n",
       "      <td>228</td>\n",
       "      <td>59</td>\n",
       "      <td>15</td>\n",
       "      <td>17</td>\n",
       "      <td>24</td>\n",
       "      <td>58</td>\n",
       "      <td>...</td>\n",
       "      <td>12</td>\n",
       "      <td>13</td>\n",
       "      <td>13</td>\n",
       "      <td>6</td>\n",
       "      <td>3</td>\n",
       "      <td>14</td>\n",
       "      <td>31</td>\n",
       "      <td>13</td>\n",
       "      <td>1130</td>\n",
       "      <td>17402</td>\n",
       "    </tr>\n",
       "    <tr>\n",
       "      <th>4.0</th>\n",
       "      <td>304</td>\n",
       "      <td>2</td>\n",
       "      <td>261</td>\n",
       "      <td>26264</td>\n",
       "      <td>53</td>\n",
       "      <td>19</td>\n",
       "      <td>40</td>\n",
       "      <td>28</td>\n",
       "      <td>35</td>\n",
       "      <td>19</td>\n",
       "      <td>...</td>\n",
       "      <td>9</td>\n",
       "      <td>6</td>\n",
       "      <td>3</td>\n",
       "      <td>4</td>\n",
       "      <td>2</td>\n",
       "      <td>8</td>\n",
       "      <td>25</td>\n",
       "      <td>13</td>\n",
       "      <td>2379</td>\n",
       "      <td>29625</td>\n",
       "    </tr>\n",
       "    <tr>\n",
       "      <th>5.0</th>\n",
       "      <td>1108</td>\n",
       "      <td>35</td>\n",
       "      <td>120</td>\n",
       "      <td>182</td>\n",
       "      <td>39075</td>\n",
       "      <td>641</td>\n",
       "      <td>60</td>\n",
       "      <td>31</td>\n",
       "      <td>90</td>\n",
       "      <td>1279</td>\n",
       "      <td>...</td>\n",
       "      <td>75</td>\n",
       "      <td>62</td>\n",
       "      <td>33</td>\n",
       "      <td>34</td>\n",
       "      <td>15</td>\n",
       "      <td>35</td>\n",
       "      <td>199</td>\n",
       "      <td>66</td>\n",
       "      <td>3834</td>\n",
       "      <td>47469</td>\n",
       "    </tr>\n",
       "    <tr>\n",
       "      <th>6.0</th>\n",
       "      <td>750</td>\n",
       "      <td>15</td>\n",
       "      <td>13</td>\n",
       "      <td>24</td>\n",
       "      <td>168</td>\n",
       "      <td>18842</td>\n",
       "      <td>6</td>\n",
       "      <td>15</td>\n",
       "      <td>6</td>\n",
       "      <td>12</td>\n",
       "      <td>...</td>\n",
       "      <td>12</td>\n",
       "      <td>24</td>\n",
       "      <td>21</td>\n",
       "      <td>12</td>\n",
       "      <td>24</td>\n",
       "      <td>310</td>\n",
       "      <td>1226</td>\n",
       "      <td>34</td>\n",
       "      <td>1768</td>\n",
       "      <td>23373</td>\n",
       "    </tr>\n",
       "    <tr>\n",
       "      <th>7.0</th>\n",
       "      <td>109</td>\n",
       "      <td>6</td>\n",
       "      <td>15</td>\n",
       "      <td>62</td>\n",
       "      <td>21</td>\n",
       "      <td>4</td>\n",
       "      <td>16825</td>\n",
       "      <td>62</td>\n",
       "      <td>20</td>\n",
       "      <td>83</td>\n",
       "      <td>...</td>\n",
       "      <td>0</td>\n",
       "      <td>2</td>\n",
       "      <td>0</td>\n",
       "      <td>1</td>\n",
       "      <td>2</td>\n",
       "      <td>2</td>\n",
       "      <td>6</td>\n",
       "      <td>17</td>\n",
       "      <td>1708</td>\n",
       "      <td>19161</td>\n",
       "    </tr>\n",
       "    <tr>\n",
       "      <th>8.0</th>\n",
       "      <td>92</td>\n",
       "      <td>2</td>\n",
       "      <td>6</td>\n",
       "      <td>7</td>\n",
       "      <td>9</td>\n",
       "      <td>7</td>\n",
       "      <td>50</td>\n",
       "      <td>22422</td>\n",
       "      <td>212</td>\n",
       "      <td>17</td>\n",
       "      <td>...</td>\n",
       "      <td>5</td>\n",
       "      <td>7</td>\n",
       "      <td>4</td>\n",
       "      <td>1</td>\n",
       "      <td>1</td>\n",
       "      <td>2</td>\n",
       "      <td>6</td>\n",
       "      <td>4</td>\n",
       "      <td>1559</td>\n",
       "      <td>24511</td>\n",
       "    </tr>\n",
       "    <tr>\n",
       "      <th>9.0</th>\n",
       "      <td>304</td>\n",
       "      <td>8</td>\n",
       "      <td>13</td>\n",
       "      <td>30</td>\n",
       "      <td>101</td>\n",
       "      <td>9</td>\n",
       "      <td>287</td>\n",
       "      <td>1396</td>\n",
       "      <td>41876</td>\n",
       "      <td>444</td>\n",
       "      <td>...</td>\n",
       "      <td>18</td>\n",
       "      <td>11</td>\n",
       "      <td>12</td>\n",
       "      <td>9</td>\n",
       "      <td>4</td>\n",
       "      <td>8</td>\n",
       "      <td>12</td>\n",
       "      <td>62</td>\n",
       "      <td>3009</td>\n",
       "      <td>50951</td>\n",
       "    </tr>\n",
       "    <tr>\n",
       "      <th>10.0</th>\n",
       "      <td>207</td>\n",
       "      <td>4</td>\n",
       "      <td>19</td>\n",
       "      <td>35</td>\n",
       "      <td>230</td>\n",
       "      <td>18</td>\n",
       "      <td>633</td>\n",
       "      <td>24</td>\n",
       "      <td>221</td>\n",
       "      <td>26518</td>\n",
       "      <td>...</td>\n",
       "      <td>5</td>\n",
       "      <td>8</td>\n",
       "      <td>11</td>\n",
       "      <td>9</td>\n",
       "      <td>8</td>\n",
       "      <td>9</td>\n",
       "      <td>14</td>\n",
       "      <td>9</td>\n",
       "      <td>2735</td>\n",
       "      <td>31589</td>\n",
       "    </tr>\n",
       "    <tr>\n",
       "      <th>11.0</th>\n",
       "      <td>85</td>\n",
       "      <td>3</td>\n",
       "      <td>5</td>\n",
       "      <td>7</td>\n",
       "      <td>57</td>\n",
       "      <td>9</td>\n",
       "      <td>5</td>\n",
       "      <td>14</td>\n",
       "      <td>314</td>\n",
       "      <td>258</td>\n",
       "      <td>...</td>\n",
       "      <td>3</td>\n",
       "      <td>7</td>\n",
       "      <td>2</td>\n",
       "      <td>3</td>\n",
       "      <td>2</td>\n",
       "      <td>4</td>\n",
       "      <td>7</td>\n",
       "      <td>10</td>\n",
       "      <td>573</td>\n",
       "      <td>17716</td>\n",
       "    </tr>\n",
       "    <tr>\n",
       "      <th>12.0</th>\n",
       "      <td>274</td>\n",
       "      <td>2</td>\n",
       "      <td>2</td>\n",
       "      <td>9</td>\n",
       "      <td>30</td>\n",
       "      <td>7</td>\n",
       "      <td>6</td>\n",
       "      <td>23</td>\n",
       "      <td>212</td>\n",
       "      <td>24</td>\n",
       "      <td>...</td>\n",
       "      <td>4</td>\n",
       "      <td>2</td>\n",
       "      <td>7</td>\n",
       "      <td>3</td>\n",
       "      <td>2</td>\n",
       "      <td>1</td>\n",
       "      <td>9</td>\n",
       "      <td>63</td>\n",
       "      <td>3788</td>\n",
       "      <td>50441</td>\n",
       "    </tr>\n",
       "    <tr>\n",
       "      <th>13.0</th>\n",
       "      <td>93</td>\n",
       "      <td>3</td>\n",
       "      <td>5</td>\n",
       "      <td>5</td>\n",
       "      <td>15</td>\n",
       "      <td>1</td>\n",
       "      <td>12</td>\n",
       "      <td>30</td>\n",
       "      <td>110</td>\n",
       "      <td>20</td>\n",
       "      <td>...</td>\n",
       "      <td>1</td>\n",
       "      <td>4</td>\n",
       "      <td>4</td>\n",
       "      <td>2</td>\n",
       "      <td>4</td>\n",
       "      <td>1</td>\n",
       "      <td>3</td>\n",
       "      <td>38</td>\n",
       "      <td>3203</td>\n",
       "      <td>47771</td>\n",
       "    </tr>\n",
       "    <tr>\n",
       "      <th>14.0</th>\n",
       "      <td>264</td>\n",
       "      <td>1</td>\n",
       "      <td>14</td>\n",
       "      <td>78</td>\n",
       "      <td>44</td>\n",
       "      <td>19</td>\n",
       "      <td>34</td>\n",
       "      <td>114</td>\n",
       "      <td>32</td>\n",
       "      <td>35</td>\n",
       "      <td>...</td>\n",
       "      <td>183</td>\n",
       "      <td>36</td>\n",
       "      <td>8</td>\n",
       "      <td>3</td>\n",
       "      <td>2</td>\n",
       "      <td>5</td>\n",
       "      <td>3</td>\n",
       "      <td>10</td>\n",
       "      <td>3520</td>\n",
       "      <td>42193</td>\n",
       "    </tr>\n",
       "    <tr>\n",
       "      <th>15.0</th>\n",
       "      <td>75</td>\n",
       "      <td>25</td>\n",
       "      <td>0</td>\n",
       "      <td>0</td>\n",
       "      <td>10</td>\n",
       "      <td>5</td>\n",
       "      <td>0</td>\n",
       "      <td>3</td>\n",
       "      <td>1</td>\n",
       "      <td>0</td>\n",
       "      <td>...</td>\n",
       "      <td>43</td>\n",
       "      <td>20</td>\n",
       "      <td>3</td>\n",
       "      <td>0</td>\n",
       "      <td>0</td>\n",
       "      <td>0</td>\n",
       "      <td>6</td>\n",
       "      <td>0</td>\n",
       "      <td>442</td>\n",
       "      <td>12664</td>\n",
       "    </tr>\n",
       "    <tr>\n",
       "      <th>16.0</th>\n",
       "      <td>94</td>\n",
       "      <td>7</td>\n",
       "      <td>2</td>\n",
       "      <td>4</td>\n",
       "      <td>11</td>\n",
       "      <td>2</td>\n",
       "      <td>2</td>\n",
       "      <td>6</td>\n",
       "      <td>5</td>\n",
       "      <td>5</td>\n",
       "      <td>...</td>\n",
       "      <td>46456</td>\n",
       "      <td>235</td>\n",
       "      <td>102</td>\n",
       "      <td>10</td>\n",
       "      <td>10</td>\n",
       "      <td>2</td>\n",
       "      <td>1</td>\n",
       "      <td>6</td>\n",
       "      <td>4099</td>\n",
       "      <td>51703</td>\n",
       "    </tr>\n",
       "    <tr>\n",
       "      <th>17.0</th>\n",
       "      <td>103</td>\n",
       "      <td>10</td>\n",
       "      <td>9</td>\n",
       "      <td>7</td>\n",
       "      <td>27</td>\n",
       "      <td>17</td>\n",
       "      <td>1</td>\n",
       "      <td>6</td>\n",
       "      <td>9</td>\n",
       "      <td>10</td>\n",
       "      <td>...</td>\n",
       "      <td>175</td>\n",
       "      <td>19024</td>\n",
       "      <td>107</td>\n",
       "      <td>44</td>\n",
       "      <td>43</td>\n",
       "      <td>32</td>\n",
       "      <td>28</td>\n",
       "      <td>72</td>\n",
       "      <td>1017</td>\n",
       "      <td>20813</td>\n",
       "    </tr>\n",
       "    <tr>\n",
       "      <th>18.0</th>\n",
       "      <td>149</td>\n",
       "      <td>26</td>\n",
       "      <td>7</td>\n",
       "      <td>6</td>\n",
       "      <td>11</td>\n",
       "      <td>5</td>\n",
       "      <td>1</td>\n",
       "      <td>6</td>\n",
       "      <td>10</td>\n",
       "      <td>11</td>\n",
       "      <td>...</td>\n",
       "      <td>71</td>\n",
       "      <td>117</td>\n",
       "      <td>18809</td>\n",
       "      <td>97</td>\n",
       "      <td>64</td>\n",
       "      <td>10</td>\n",
       "      <td>25</td>\n",
       "      <td>77</td>\n",
       "      <td>505</td>\n",
       "      <td>20033</td>\n",
       "    </tr>\n",
       "    <tr>\n",
       "      <th>19.0</th>\n",
       "      <td>155</td>\n",
       "      <td>372</td>\n",
       "      <td>7</td>\n",
       "      <td>1</td>\n",
       "      <td>11</td>\n",
       "      <td>6</td>\n",
       "      <td>2</td>\n",
       "      <td>2</td>\n",
       "      <td>5</td>\n",
       "      <td>3</td>\n",
       "      <td>...</td>\n",
       "      <td>20</td>\n",
       "      <td>58</td>\n",
       "      <td>331</td>\n",
       "      <td>13460</td>\n",
       "      <td>258</td>\n",
       "      <td>39</td>\n",
       "      <td>28</td>\n",
       "      <td>26</td>\n",
       "      <td>238</td>\n",
       "      <td>15064</td>\n",
       "    </tr>\n",
       "    <tr>\n",
       "      <th>20.0</th>\n",
       "      <td>142</td>\n",
       "      <td>24</td>\n",
       "      <td>5</td>\n",
       "      <td>5</td>\n",
       "      <td>17</td>\n",
       "      <td>9</td>\n",
       "      <td>0</td>\n",
       "      <td>5</td>\n",
       "      <td>4</td>\n",
       "      <td>5</td>\n",
       "      <td>...</td>\n",
       "      <td>21</td>\n",
       "      <td>56</td>\n",
       "      <td>139</td>\n",
       "      <td>129</td>\n",
       "      <td>20394</td>\n",
       "      <td>148</td>\n",
       "      <td>85</td>\n",
       "      <td>85</td>\n",
       "      <td>739</td>\n",
       "      <td>22061</td>\n",
       "    </tr>\n",
       "    <tr>\n",
       "      <th>21.0</th>\n",
       "      <td>158</td>\n",
       "      <td>62</td>\n",
       "      <td>1</td>\n",
       "      <td>4</td>\n",
       "      <td>13</td>\n",
       "      <td>51</td>\n",
       "      <td>1</td>\n",
       "      <td>5</td>\n",
       "      <td>2</td>\n",
       "      <td>5</td>\n",
       "      <td>...</td>\n",
       "      <td>7</td>\n",
       "      <td>27</td>\n",
       "      <td>27</td>\n",
       "      <td>14</td>\n",
       "      <td>25</td>\n",
       "      <td>16127</td>\n",
       "      <td>118</td>\n",
       "      <td>3</td>\n",
       "      <td>479</td>\n",
       "      <td>17146</td>\n",
       "    </tr>\n",
       "    <tr>\n",
       "      <th>22.0</th>\n",
       "      <td>315</td>\n",
       "      <td>10</td>\n",
       "      <td>9</td>\n",
       "      <td>7</td>\n",
       "      <td>76</td>\n",
       "      <td>183</td>\n",
       "      <td>0</td>\n",
       "      <td>13</td>\n",
       "      <td>4</td>\n",
       "      <td>15</td>\n",
       "      <td>...</td>\n",
       "      <td>8</td>\n",
       "      <td>49</td>\n",
       "      <td>29</td>\n",
       "      <td>8</td>\n",
       "      <td>59</td>\n",
       "      <td>159</td>\n",
       "      <td>23525</td>\n",
       "      <td>64</td>\n",
       "      <td>1308</td>\n",
       "      <td>25880</td>\n",
       "    </tr>\n",
       "    <tr>\n",
       "      <th>All</th>\n",
       "      <td>195477</td>\n",
       "      <td>11183</td>\n",
       "      <td>17437</td>\n",
       "      <td>29860</td>\n",
       "      <td>45806</td>\n",
       "      <td>23197</td>\n",
       "      <td>18881</td>\n",
       "      <td>24826</td>\n",
       "      <td>44906</td>\n",
       "      <td>30983</td>\n",
       "      <td>...</td>\n",
       "      <td>49161</td>\n",
       "      <td>21042</td>\n",
       "      <td>21845</td>\n",
       "      <td>15649</td>\n",
       "      <td>22314</td>\n",
       "      <td>18599</td>\n",
       "      <td>28839</td>\n",
       "      <td>1406</td>\n",
       "      <td>53357</td>\n",
       "      <td>845675</td>\n",
       "    </tr>\n",
       "  </tbody>\n",
       "</table>\n",
       "<p>23 rows × 25 columns</p>\n",
       "</div>"
      ],
      "text/plain": [
       "Dredif     1.0    2.0    3.0    4.0    5.0    6.0    7.0    8.0    9.0   10.0  \\\n",
       "Depreg                                                                          \n",
       "1.0     189713   2365   2649   2539   5583   3276    899    602   1708   2154   \n",
       "2.0        203   8188      3      5     16      8      2      2      6      8   \n",
       "3.0        780     13  14272    579    228     59     15     17     24     58   \n",
       "4.0        304      2    261  26264     53     19     40     28     35     19   \n",
       "5.0       1108     35    120    182  39075    641     60     31     90   1279   \n",
       "6.0        750     15     13     24    168  18842      6     15      6     12   \n",
       "7.0        109      6     15     62     21      4  16825     62     20     83   \n",
       "8.0         92      2      6      7      9      7     50  22422    212     17   \n",
       "9.0        304      8     13     30    101      9    287   1396  41876    444   \n",
       "10.0       207      4     19     35    230     18    633     24    221  26518   \n",
       "11.0        85      3      5      7     57      9      5     14    314    258   \n",
       "12.0       274      2      2      9     30      7      6     23    212     24   \n",
       "13.0        93      3      5      5     15      1     12     30    110     20   \n",
       "14.0       264      1     14     78     44     19     34    114     32     35   \n",
       "15.0        75     25      0      0     10      5      0      3      1      0   \n",
       "16.0        94      7      2      4     11      2      2      6      5      5   \n",
       "17.0       103     10      9      7     27     17      1      6      9     10   \n",
       "18.0       149     26      7      6     11      5      1      6     10     11   \n",
       "19.0       155    372      7      1     11      6      2      2      5      3   \n",
       "20.0       142     24      5      5     17      9      0      5      4      5   \n",
       "21.0       158     62      1      4     13     51      1      5      2      5   \n",
       "22.0       315     10      9      7     76    183      0     13      4     15   \n",
       "All     195477  11183  17437  29860  45806  23197  18881  24826  44906  30983   \n",
       "\n",
       "Dredif  ...   16.0   17.0   18.0   19.0   20.0   21.0   22.0  23.0   99.0  \\\n",
       "Depreg  ...                                                                 \n",
       "1.0     ...   1998   1265   2119   1748   1379   1628   3464   720  15131   \n",
       "2.0     ...     35      9     61     52     13     55     18    14    193   \n",
       "3.0     ...     12     13     13      6      3     14     31    13   1130   \n",
       "4.0     ...      9      6      3      4      2      8     25    13   2379   \n",
       "5.0     ...     75     62     33     34     15     35    199    66   3834   \n",
       "6.0     ...     12     24     21     12     24    310   1226    34   1768   \n",
       "7.0     ...      0      2      0      1      2      2      6    17   1708   \n",
       "8.0     ...      5      7      4      1      1      2      6     4   1559   \n",
       "9.0     ...     18     11     12      9      4      8     12    62   3009   \n",
       "10.0    ...      5      8     11      9      8      9     14     9   2735   \n",
       "11.0    ...      3      7      2      3      2      4      7    10    573   \n",
       "12.0    ...      4      2      7      3      2      1      9    63   3788   \n",
       "13.0    ...      1      4      4      2      4      1      3    38   3203   \n",
       "14.0    ...    183     36      8      3      2      5      3    10   3520   \n",
       "15.0    ...     43     20      3      0      0      0      6     0    442   \n",
       "16.0    ...  46456    235    102     10     10      2      1     6   4099   \n",
       "17.0    ...    175  19024    107     44     43     32     28    72   1017   \n",
       "18.0    ...     71    117  18809     97     64     10     25    77    505   \n",
       "19.0    ...     20     58    331  13460    258     39     28    26    238   \n",
       "20.0    ...     21     56    139    129  20394    148     85    85    739   \n",
       "21.0    ...      7     27     27     14     25  16127    118     3    479   \n",
       "22.0    ...      8     49     29      8     59    159  23525    64   1308   \n",
       "All     ...  49161  21042  21845  15649  22314  18599  28839  1406  53357   \n",
       "\n",
       "Dredif     All  \n",
       "Depreg          \n",
       "1.0     249179  \n",
       "2.0       8930  \n",
       "3.0      17402  \n",
       "4.0      29625  \n",
       "5.0      47469  \n",
       "6.0      23373  \n",
       "7.0      19161  \n",
       "8.0      24511  \n",
       "9.0      50951  \n",
       "10.0     31589  \n",
       "11.0     17716  \n",
       "12.0     50441  \n",
       "13.0     47771  \n",
       "14.0     42193  \n",
       "15.0     12664  \n",
       "16.0     51703  \n",
       "17.0     20813  \n",
       "18.0     20033  \n",
       "19.0     15064  \n",
       "20.0     22061  \n",
       "21.0     17146  \n",
       "22.0     25880  \n",
       "All     845675  \n",
       "\n",
       "[23 rows x 25 columns]"
      ]
     },
     "execution_count": 40,
     "metadata": {},
     "output_type": "execute_result"
    }
   ],
   "source": [
    "pd_crosstab = pd.crosstab(data[\"Depreg\"], data[\"Dredif\"], margins=True)\n",
    "pd_crosstab"
   ]
  },
  {
   "cell_type": "code",
   "execution_count": 41,
   "metadata": {},
   "outputs": [],
   "source": [
    "# Creamos una columna clasificando a los distintos grupos de edad en categorias\n",
    "criteria = [data['Edadif'].between(0, 1),data['Edadif'].between(1.1, 10),data['Edadif'].between(10.1, 20),data['Edadif'].between(21.1, 35),\n",
    "            data['Edadif'].between(35.1, 50),data['Edadif'].between(51.1, 65),data['Edadif'].between(65.1, 100)]\n",
    "values = [\"Menos de un año\", \"Niño\", \"Adolescente\",\"Joven\",\"Adulto\",\"Adulto 2\",\"Edad avanzada\"]\n",
    "\n",
    "data['Edadrange'] = np.select(criteria, values, 0)"
   ]
  },
  {
   "cell_type": "markdown",
   "metadata": {},
   "source": [
    "Ahora cruzamos los grupos de edad y el sexo donde vemos que las mujeres de edad avanzada fueron las personas que más fallecieron en este período de tiempo seguidas de los hombres."
   ]
  },
  {
   "cell_type": "code",
   "execution_count": 42,
   "metadata": {},
   "outputs": [
    {
     "data": {
      "text/html": [
       "<div>\n",
       "<style scoped>\n",
       "    .dataframe tbody tr th:only-of-type {\n",
       "        vertical-align: middle;\n",
       "    }\n",
       "\n",
       "    .dataframe tbody tr th {\n",
       "        vertical-align: top;\n",
       "    }\n",
       "\n",
       "    .dataframe thead th {\n",
       "        text-align: right;\n",
       "    }\n",
       "</style>\n",
       "<table border=\"1\" class=\"dataframe\">\n",
       "  <thead>\n",
       "    <tr style=\"text-align: right;\">\n",
       "      <th>Sexo</th>\n",
       "      <th>1.0</th>\n",
       "      <th>2.0</th>\n",
       "      <th>All</th>\n",
       "    </tr>\n",
       "    <tr>\n",
       "      <th>Edadrange</th>\n",
       "      <th></th>\n",
       "      <th></th>\n",
       "      <th></th>\n",
       "    </tr>\n",
       "  </thead>\n",
       "  <tbody>\n",
       "    <tr>\n",
       "      <th>0</th>\n",
       "      <td>9738</td>\n",
       "      <td>5871</td>\n",
       "      <td>15609</td>\n",
       "    </tr>\n",
       "    <tr>\n",
       "      <th>Adolescente</th>\n",
       "      <td>32178</td>\n",
       "      <td>16902</td>\n",
       "      <td>49080</td>\n",
       "    </tr>\n",
       "    <tr>\n",
       "      <th>Adulto</th>\n",
       "      <td>62799</td>\n",
       "      <td>34421</td>\n",
       "      <td>97220</td>\n",
       "    </tr>\n",
       "    <tr>\n",
       "      <th>Adulto 2</th>\n",
       "      <td>70517</td>\n",
       "      <td>62282</td>\n",
       "      <td>132799</td>\n",
       "    </tr>\n",
       "    <tr>\n",
       "      <th>Edad avanzada</th>\n",
       "      <td>175495</td>\n",
       "      <td>176217</td>\n",
       "      <td>351712</td>\n",
       "    </tr>\n",
       "    <tr>\n",
       "      <th>Joven</th>\n",
       "      <td>66093</td>\n",
       "      <td>24456</td>\n",
       "      <td>90549</td>\n",
       "    </tr>\n",
       "    <tr>\n",
       "      <th>Menos de un año</th>\n",
       "      <td>20047</td>\n",
       "      <td>16770</td>\n",
       "      <td>36817</td>\n",
       "    </tr>\n",
       "    <tr>\n",
       "      <th>Niño</th>\n",
       "      <td>39863</td>\n",
       "      <td>32026</td>\n",
       "      <td>71889</td>\n",
       "    </tr>\n",
       "    <tr>\n",
       "      <th>All</th>\n",
       "      <td>476730</td>\n",
       "      <td>368945</td>\n",
       "      <td>845675</td>\n",
       "    </tr>\n",
       "  </tbody>\n",
       "</table>\n",
       "</div>"
      ],
      "text/plain": [
       "Sexo                1.0     2.0     All\n",
       "Edadrange                              \n",
       "0                  9738    5871   15609\n",
       "Adolescente       32178   16902   49080\n",
       "Adulto            62799   34421   97220\n",
       "Adulto 2          70517   62282  132799\n",
       "Edad avanzada    175495  176217  351712\n",
       "Joven             66093   24456   90549\n",
       "Menos de un año   20047   16770   36817\n",
       "Niño              39863   32026   71889\n",
       "All              476730  368945  845675"
      ]
     },
     "execution_count": 42,
     "metadata": {},
     "output_type": "execute_result"
    }
   ],
   "source": [
    "pd_crosstab = pd.crosstab(data[\"Edadrange\"], data[\"Sexo\"], margins=True)\n",
    "pd_crosstab"
   ]
  },
  {
   "cell_type": "code",
   "execution_count": 43,
   "metadata": {},
   "outputs": [
    {
     "data": {
      "text/plain": [
       "<matplotlib.axes._subplots.AxesSubplot at 0x7ff464846048>"
      ]
     },
     "execution_count": 43,
     "metadata": {},
     "output_type": "execute_result"
    },
    {
     "data": {
      "image/png": "[encoded data removed]",
      "text/plain": [
       "<Figure size 554.4x307.44 with 2 Axes>"
      ]
     },
     "metadata": {
      "needs_background": "light"
     },
     "output_type": "display_data"
    }
   ],
   "source": [
    "sns.heatmap(pd_crosstab,annot=True)"
   ]
  },
  {
   "cell_type": "markdown",
   "metadata": {},
   "source": [
    "Los hombres solteros fueron las personas que más fallecieron en este período seguidos de las mujeres solteras"
   ]
  },
  {
   "cell_type": "code",
   "execution_count": 44,
   "metadata": {},
   "outputs": [
    {
     "data": {
      "text/html": [
       "<div>\n",
       "<style scoped>\n",
       "    .dataframe tbody tr th:only-of-type {\n",
       "        vertical-align: middle;\n",
       "    }\n",
       "\n",
       "    .dataframe tbody tr th {\n",
       "        vertical-align: top;\n",
       "    }\n",
       "\n",
       "    .dataframe thead th {\n",
       "        text-align: right;\n",
       "    }\n",
       "</style>\n",
       "<table border=\"1\" class=\"dataframe\">\n",
       "  <thead>\n",
       "    <tr style=\"text-align: right;\">\n",
       "      <th>Sexo</th>\n",
       "      <th>1.0</th>\n",
       "      <th>2.0</th>\n",
       "      <th>All</th>\n",
       "    </tr>\n",
       "    <tr>\n",
       "      <th>Ecidif</th>\n",
       "      <th></th>\n",
       "      <th></th>\n",
       "      <th></th>\n",
       "    </tr>\n",
       "  </thead>\n",
       "  <tbody>\n",
       "    <tr>\n",
       "      <th>1.0</th>\n",
       "      <td>296156</td>\n",
       "      <td>240374</td>\n",
       "      <td>536530</td>\n",
       "    </tr>\n",
       "    <tr>\n",
       "      <th>2.0</th>\n",
       "      <td>170674</td>\n",
       "      <td>121995</td>\n",
       "      <td>292669</td>\n",
       "    </tr>\n",
       "    <tr>\n",
       "      <th>3.0</th>\n",
       "      <td>4275</td>\n",
       "      <td>3682</td>\n",
       "      <td>7957</td>\n",
       "    </tr>\n",
       "    <tr>\n",
       "      <th>9.0</th>\n",
       "      <td>5625</td>\n",
       "      <td>2894</td>\n",
       "      <td>8519</td>\n",
       "    </tr>\n",
       "    <tr>\n",
       "      <th>All</th>\n",
       "      <td>476730</td>\n",
       "      <td>368945</td>\n",
       "      <td>845675</td>\n",
       "    </tr>\n",
       "  </tbody>\n",
       "</table>\n",
       "</div>"
      ],
      "text/plain": [
       "Sexo       1.0     2.0     All\n",
       "Ecidif                        \n",
       "1.0     296156  240374  536530\n",
       "2.0     170674  121995  292669\n",
       "3.0       4275    3682    7957\n",
       "9.0       5625    2894    8519\n",
       "All     476730  368945  845675"
      ]
     },
     "execution_count": 44,
     "metadata": {},
     "output_type": "execute_result"
    }
   ],
   "source": [
    "pd_crosstab = pd.crosstab(data[\"Ecidif\"], data[\"Sexo\"], margins=True)\n",
    "pd_crosstab"
   ]
  },
  {
   "cell_type": "code",
   "execution_count": 45,
   "metadata": {},
   "outputs": [
    {
     "data": {
      "text/plain": [
       "<matplotlib.axes._subplots.AxesSubplot at 0x7ff4649947f0>"
      ]
     },
     "execution_count": 45,
     "metadata": {},
     "output_type": "execute_result"
    },
    {
     "data": {
      "image/png": "[encoded data removed]",
      "text/plain": [
       "<Figure size 554.4x307.44 with 2 Axes>"
      ]
     },
     "metadata": {
      "needs_background": "light"
     },
     "output_type": "display_data"
    }
   ],
   "source": [
    "sns.heatmap(pd_crosstab,annot=True)"
   ]
  },
  {
   "cell_type": "markdown",
   "metadata": {},
   "source": [
    "En la siguiente tabla comparamos la causa de defunción con el departamento donde sucede y vemos que en Guatemala es donde más gente fallece por ataques al corazón, seguido de Quetzaltenango y Alta Verapaz.\n",
    "\n",
    "Con la Neumonía tenemos a Alta Verapaz como el departamento donde más gente muere por esto, esto puede ser debido a sus temperaturas frías y sus altas temperaturas, seguido de Guatemala y Totonicapán."
   ]
  },
  {
   "cell_type": "code",
   "execution_count": 46,
   "metadata": {},
   "outputs": [
    {
     "data": {
      "text/html": [
       "<div>\n",
       "<style scoped>\n",
       "    .dataframe tbody tr th:only-of-type {\n",
       "        vertical-align: middle;\n",
       "    }\n",
       "\n",
       "    .dataframe tbody tr th {\n",
       "        vertical-align: top;\n",
       "    }\n",
       "\n",
       "    .dataframe thead th {\n",
       "        text-align: right;\n",
       "    }\n",
       "</style>\n",
       "<table border=\"1\" class=\"dataframe\">\n",
       "  <thead>\n",
       "    <tr style=\"text-align: right;\">\n",
       "      <th>Dredif</th>\n",
       "      <th>1.0</th>\n",
       "      <th>2.0</th>\n",
       "      <th>3.0</th>\n",
       "      <th>4.0</th>\n",
       "      <th>5.0</th>\n",
       "      <th>6.0</th>\n",
       "      <th>7.0</th>\n",
       "      <th>8.0</th>\n",
       "      <th>9.0</th>\n",
       "      <th>10.0</th>\n",
       "      <th>...</th>\n",
       "      <th>16.0</th>\n",
       "      <th>17.0</th>\n",
       "      <th>18.0</th>\n",
       "      <th>19.0</th>\n",
       "      <th>20.0</th>\n",
       "      <th>21.0</th>\n",
       "      <th>22.0</th>\n",
       "      <th>23.0</th>\n",
       "      <th>99.0</th>\n",
       "      <th>All</th>\n",
       "    </tr>\n",
       "    <tr>\n",
       "      <th>Caudef</th>\n",
       "      <th></th>\n",
       "      <th></th>\n",
       "      <th></th>\n",
       "      <th></th>\n",
       "      <th></th>\n",
       "      <th></th>\n",
       "      <th></th>\n",
       "      <th></th>\n",
       "      <th></th>\n",
       "      <th></th>\n",
       "      <th></th>\n",
       "      <th></th>\n",
       "      <th></th>\n",
       "      <th></th>\n",
       "      <th></th>\n",
       "      <th></th>\n",
       "      <th></th>\n",
       "      <th></th>\n",
       "      <th></th>\n",
       "      <th></th>\n",
       "      <th></th>\n",
       "    </tr>\n",
       "  </thead>\n",
       "  <tbody>\n",
       "    <tr>\n",
       "      <th>All</th>\n",
       "      <td>195477</td>\n",
       "      <td>11183</td>\n",
       "      <td>17437</td>\n",
       "      <td>29860</td>\n",
       "      <td>45806</td>\n",
       "      <td>23197</td>\n",
       "      <td>18881</td>\n",
       "      <td>24826</td>\n",
       "      <td>44906</td>\n",
       "      <td>30983</td>\n",
       "      <td>...</td>\n",
       "      <td>49161</td>\n",
       "      <td>21042</td>\n",
       "      <td>21845</td>\n",
       "      <td>15649</td>\n",
       "      <td>22314</td>\n",
       "      <td>18599</td>\n",
       "      <td>28839</td>\n",
       "      <td>1406</td>\n",
       "      <td>53357</td>\n",
       "      <td>845675</td>\n",
       "    </tr>\n",
       "    <tr>\n",
       "      <th>I219</th>\n",
       "      <td>12901</td>\n",
       "      <td>1594</td>\n",
       "      <td>996</td>\n",
       "      <td>1560</td>\n",
       "      <td>3542</td>\n",
       "      <td>1869</td>\n",
       "      <td>655</td>\n",
       "      <td>810</td>\n",
       "      <td>2225</td>\n",
       "      <td>1063</td>\n",
       "      <td>...</td>\n",
       "      <td>2727</td>\n",
       "      <td>1075</td>\n",
       "      <td>2023</td>\n",
       "      <td>2453</td>\n",
       "      <td>2512</td>\n",
       "      <td>1556</td>\n",
       "      <td>4084</td>\n",
       "      <td>74</td>\n",
       "      <td>367</td>\n",
       "      <td>54027</td>\n",
       "    </tr>\n",
       "    <tr>\n",
       "      <th>J189</th>\n",
       "      <td>5305</td>\n",
       "      <td>557</td>\n",
       "      <td>724</td>\n",
       "      <td>2645</td>\n",
       "      <td>1718</td>\n",
       "      <td>852</td>\n",
       "      <td>2368</td>\n",
       "      <td>2930</td>\n",
       "      <td>2143</td>\n",
       "      <td>746</td>\n",
       "      <td>...</td>\n",
       "      <td>6305</td>\n",
       "      <td>560</td>\n",
       "      <td>767</td>\n",
       "      <td>574</td>\n",
       "      <td>1277</td>\n",
       "      <td>620</td>\n",
       "      <td>873</td>\n",
       "      <td>22</td>\n",
       "      <td>5008</td>\n",
       "      <td>53038</td>\n",
       "    </tr>\n",
       "    <tr>\n",
       "      <th>E149</th>\n",
       "      <td>8917</td>\n",
       "      <td>478</td>\n",
       "      <td>736</td>\n",
       "      <td>1108</td>\n",
       "      <td>1923</td>\n",
       "      <td>746</td>\n",
       "      <td>554</td>\n",
       "      <td>914</td>\n",
       "      <td>2053</td>\n",
       "      <td>1190</td>\n",
       "      <td>...</td>\n",
       "      <td>1020</td>\n",
       "      <td>808</td>\n",
       "      <td>832</td>\n",
       "      <td>652</td>\n",
       "      <td>737</td>\n",
       "      <td>555</td>\n",
       "      <td>1095</td>\n",
       "      <td>24</td>\n",
       "      <td>147</td>\n",
       "      <td>29872</td>\n",
       "    </tr>\n",
       "    <tr>\n",
       "      <th>X599</th>\n",
       "      <td>8151</td>\n",
       "      <td>295</td>\n",
       "      <td>737</td>\n",
       "      <td>1083</td>\n",
       "      <td>1679</td>\n",
       "      <td>710</td>\n",
       "      <td>590</td>\n",
       "      <td>530</td>\n",
       "      <td>1406</td>\n",
       "      <td>1282</td>\n",
       "      <td>...</td>\n",
       "      <td>1264</td>\n",
       "      <td>687</td>\n",
       "      <td>555</td>\n",
       "      <td>481</td>\n",
       "      <td>784</td>\n",
       "      <td>436</td>\n",
       "      <td>665</td>\n",
       "      <td>127</td>\n",
       "      <td>2064</td>\n",
       "      <td>28308</td>\n",
       "    </tr>\n",
       "    <tr>\n",
       "      <th>R98X</th>\n",
       "      <td>1613</td>\n",
       "      <td>54</td>\n",
       "      <td>333</td>\n",
       "      <td>491</td>\n",
       "      <td>2507</td>\n",
       "      <td>1058</td>\n",
       "      <td>582</td>\n",
       "      <td>1005</td>\n",
       "      <td>986</td>\n",
       "      <td>6234</td>\n",
       "      <td>...</td>\n",
       "      <td>256</td>\n",
       "      <td>677</td>\n",
       "      <td>678</td>\n",
       "      <td>81</td>\n",
       "      <td>136</td>\n",
       "      <td>1391</td>\n",
       "      <td>232</td>\n",
       "      <td>23</td>\n",
       "      <td>1123</td>\n",
       "      <td>28099</td>\n",
       "    </tr>\n",
       "  </tbody>\n",
       "</table>\n",
       "<p>6 rows × 25 columns</p>\n",
       "</div>"
      ],
      "text/plain": [
       "Dredif     1.0    2.0    3.0    4.0    5.0    6.0    7.0    8.0    9.0   10.0  \\\n",
       "Caudef                                                                          \n",
       "All     195477  11183  17437  29860  45806  23197  18881  24826  44906  30983   \n",
       "I219     12901   1594    996   1560   3542   1869    655    810   2225   1063   \n",
       "J189      5305    557    724   2645   1718    852   2368   2930   2143    746   \n",
       "E149      8917    478    736   1108   1923    746    554    914   2053   1190   \n",
       "X599      8151    295    737   1083   1679    710    590    530   1406   1282   \n",
       "R98X      1613     54    333    491   2507   1058    582   1005    986   6234   \n",
       "\n",
       "Dredif  ...   16.0   17.0   18.0   19.0   20.0   21.0   22.0  23.0   99.0  \\\n",
       "Caudef  ...                                                                 \n",
       "All     ...  49161  21042  21845  15649  22314  18599  28839  1406  53357   \n",
       "I219    ...   2727   1075   2023   2453   2512   1556   4084    74    367   \n",
       "J189    ...   6305    560    767    574   1277    620    873    22   5008   \n",
       "E149    ...   1020    808    832    652    737    555   1095    24    147   \n",
       "X599    ...   1264    687    555    481    784    436    665   127   2064   \n",
       "R98X    ...    256    677    678     81    136   1391    232    23   1123   \n",
       "\n",
       "Dredif     All  \n",
       "Caudef          \n",
       "All     845675  \n",
       "I219     54027  \n",
       "J189     53038  \n",
       "E149     29872  \n",
       "X599     28308  \n",
       "R98X     28099  \n",
       "\n",
       "[6 rows x 25 columns]"
      ]
     },
     "execution_count": 46,
     "metadata": {},
     "output_type": "execute_result"
    }
   ],
   "source": [
    "pd_crosstab = pd.crosstab(data[\"Caudef\"], data[\"Dredif\"], margins=True)\n",
    "pd_crosstab.sort_values(\"All\",ascending=False).head(6)"
   ]
  },
  {
   "cell_type": "markdown",
   "metadata": {},
   "source": [
    "A continuación hacemos una tabla del rango de edad y la causa de muerte, donde vemos que las personas mayores fallecieron a causa de enfermedades del corazón, seguida de la diabetes y muerte sin asistencia.\n",
    "\n",
    "El segundo grupo más afectado son los adultos que se encuentran entre los 50 y 65 años de edad"
   ]
  },
  {
   "cell_type": "code",
   "execution_count": 47,
   "metadata": {},
   "outputs": [
    {
     "data": {
      "text/html": [
       "<div>\n",
       "<style scoped>\n",
       "    .dataframe tbody tr th:only-of-type {\n",
       "        vertical-align: middle;\n",
       "    }\n",
       "\n",
       "    .dataframe tbody tr th {\n",
       "        vertical-align: top;\n",
       "    }\n",
       "\n",
       "    .dataframe thead th {\n",
       "        text-align: right;\n",
       "    }\n",
       "</style>\n",
       "<table border=\"1\" class=\"dataframe\">\n",
       "  <thead>\n",
       "    <tr style=\"text-align: right;\">\n",
       "      <th>Edadrange</th>\n",
       "      <th>0</th>\n",
       "      <th>Adolescente</th>\n",
       "      <th>Adulto</th>\n",
       "      <th>Adulto 2</th>\n",
       "      <th>Edad avanzada</th>\n",
       "      <th>Joven</th>\n",
       "      <th>Menos de un año</th>\n",
       "      <th>Niño</th>\n",
       "      <th>All</th>\n",
       "    </tr>\n",
       "    <tr>\n",
       "      <th>Caudef</th>\n",
       "      <th></th>\n",
       "      <th></th>\n",
       "      <th></th>\n",
       "      <th></th>\n",
       "      <th></th>\n",
       "      <th></th>\n",
       "      <th></th>\n",
       "      <th></th>\n",
       "      <th></th>\n",
       "    </tr>\n",
       "  </thead>\n",
       "  <tbody>\n",
       "    <tr>\n",
       "      <th>All</th>\n",
       "      <td>15609</td>\n",
       "      <td>49080</td>\n",
       "      <td>97220</td>\n",
       "      <td>132799</td>\n",
       "      <td>351712</td>\n",
       "      <td>90549</td>\n",
       "      <td>36817</td>\n",
       "      <td>71889</td>\n",
       "      <td>845675</td>\n",
       "    </tr>\n",
       "    <tr>\n",
       "      <th>I219</th>\n",
       "      <td>727</td>\n",
       "      <td>347</td>\n",
       "      <td>4103</td>\n",
       "      <td>9010</td>\n",
       "      <td>38048</td>\n",
       "      <td>1760</td>\n",
       "      <td>8</td>\n",
       "      <td>24</td>\n",
       "      <td>54027</td>\n",
       "    </tr>\n",
       "    <tr>\n",
       "      <th>J189</th>\n",
       "      <td>501</td>\n",
       "      <td>1447</td>\n",
       "      <td>2493</td>\n",
       "      <td>4634</td>\n",
       "      <td>26023</td>\n",
       "      <td>2019</td>\n",
       "      <td>5603</td>\n",
       "      <td>10318</td>\n",
       "      <td>53038</td>\n",
       "    </tr>\n",
       "    <tr>\n",
       "      <th>E149</th>\n",
       "      <td>414</td>\n",
       "      <td>71</td>\n",
       "      <td>3272</td>\n",
       "      <td>9255</td>\n",
       "      <td>16198</td>\n",
       "      <td>650</td>\n",
       "      <td>7</td>\n",
       "      <td>5</td>\n",
       "      <td>29872</td>\n",
       "    </tr>\n",
       "    <tr>\n",
       "      <th>X599</th>\n",
       "      <td>958</td>\n",
       "      <td>3444</td>\n",
       "      <td>5501</td>\n",
       "      <td>3897</td>\n",
       "      <td>4771</td>\n",
       "      <td>8036</td>\n",
       "      <td>287</td>\n",
       "      <td>1414</td>\n",
       "      <td>28308</td>\n",
       "    </tr>\n",
       "    <tr>\n",
       "      <th>R98X</th>\n",
       "      <td>432</td>\n",
       "      <td>925</td>\n",
       "      <td>2969</td>\n",
       "      <td>4714</td>\n",
       "      <td>14867</td>\n",
       "      <td>2061</td>\n",
       "      <td>790</td>\n",
       "      <td>1341</td>\n",
       "      <td>28099</td>\n",
       "    </tr>\n",
       "  </tbody>\n",
       "</table>\n",
       "</div>"
      ],
      "text/plain": [
       "Edadrange      0  Adolescente  Adulto  Adulto 2  Edad avanzada  Joven  \\\n",
       "Caudef                                                                  \n",
       "All        15609        49080   97220    132799         351712  90549   \n",
       "I219         727          347    4103      9010          38048   1760   \n",
       "J189         501         1447    2493      4634          26023   2019   \n",
       "E149         414           71    3272      9255          16198    650   \n",
       "X599         958         3444    5501      3897           4771   8036   \n",
       "R98X         432          925    2969      4714          14867   2061   \n",
       "\n",
       "Edadrange  Menos de un año   Niño     All  \n",
       "Caudef                                     \n",
       "All                  36817  71889  845675  \n",
       "I219                     8     24   54027  \n",
       "J189                  5603  10318   53038  \n",
       "E149                     7      5   29872  \n",
       "X599                   287   1414   28308  \n",
       "R98X                   790   1341   28099  "
      ]
     },
     "execution_count": 47,
     "metadata": {},
     "output_type": "execute_result"
    }
   ],
   "source": [
    "pd_crosstab = pd.crosstab(data[\"Caudef\"], data[\"Edadrange\"], margins=True)\n",
    "pd_crosstab.sort_values(\"All\",ascending=False).head(6)"
   ]
  },
  {
   "cell_type": "code",
   "execution_count": 48,
   "metadata": {},
   "outputs": [
    {
     "data": {
      "text/plain": [
       "<matplotlib.axes._subplots.AxesSubplot at 0x7ff42da990b8>"
      ]
     },
     "execution_count": 48,
     "metadata": {},
     "output_type": "execute_result"
    },
    {
     "data": {
      "image/png": "[encoded data removed]",
      "text/plain": [
       "<Figure size 554.4x307.44 with 2 Axes>"
      ]
     },
     "metadata": {
      "needs_background": "light"
     },
     "output_type": "display_data"
    }
   ],
   "source": [
    "a = pd_crosstab.sort_values(\"All\",ascending=False).head(6)\n",
    "sns.heatmap(a)"
   ]
  },
  {
   "cell_type": "markdown",
   "metadata": {},
   "source": [
    "# Aplicando Kmeans"
   ]
  },
  {
   "cell_type": "code",
   "execution_count": 49,
   "metadata": {},
   "outputs": [],
   "source": [
    "from sklearn.cluster import KMeans\n",
    "data = data.select_dtypes(exclude=['object'])\n",
    "\n"
   ]
  },
  {
   "cell_type": "code",
   "execution_count": 50,
   "metadata": {},
   "outputs": [],
   "source": [
    "lista2 = []\n",
    "for i in range(1,11):\n",
    "    kmeans = KMeans(n_clusters = i, max_iter = 300)\n",
    "    kmeans.fit(data)\n",
    "    lista2.append(kmeans.inertia_)\n"
   ]
  },
  {
   "cell_type": "markdown",
   "metadata": {},
   "source": [
    "Al hacer la gráfica de codo vemos que el número optimo de clusters para este conjunto de datos es de 4 puesto que es el que menor error cuadrado tiene y práctiamente tiene la misma precisión con más clusters"
   ]
  },
  {
   "cell_type": "code",
   "execution_count": 51,
   "metadata": {},
   "outputs": [
    {
     "data": {
      "text/plain": [
       "Text(0, 0.5, 'Within-Cluster-Sum-of-Squares')"
      ]
     },
     "execution_count": 51,
     "metadata": {},
     "output_type": "execute_result"
    },
    {
     "data": {
      "image/png": "[encoded data removed]",
      "text/plain": [
       "<Figure size 554.4x307.44 with 1 Axes>"
      ]
     },
     "metadata": {
      "needs_background": "light"
     },
     "output_type": "display_data"
    }
   ],
   "source": [
    "plt.plot(range(1,11),lista2)\n",
    "plt.title(\"Gráfica de codo\")\n",
    "plt.xlabel(\"Número de clusters\")\n",
    "plt.ylabel(\"Within-Cluster-Sum-of-Squares\")"
   ]
  },
  {
   "cell_type": "code",
   "execution_count": 52,
   "metadata": {},
   "outputs": [
    {
     "data": {
      "text/plain": [
       "KMeans(n_clusters=4)"
      ]
     },
     "execution_count": 52,
     "metadata": {},
     "output_type": "execute_result"
    }
   ],
   "source": [
    "# Create a KMeans instance with 3 clusters: model\n",
    "model = KMeans(n_clusters = 4)\n",
    "\n",
    "# Fit model to points\n",
    "model.fit(data)\n"
   ]
  },
  {
   "cell_type": "markdown",
   "metadata": {},
   "source": [
    "Creado ya el modelo creamos una nueva columna para ver a donde pertenece cada individuo"
   ]
  },
  {
   "cell_type": "code",
   "execution_count": 53,
   "metadata": {},
   "outputs": [
    {
     "data": {
      "text/plain": [
       "<matplotlib.axes._subplots.AxesSubplot at 0x7ff4647e3438>"
      ]
     },
     "execution_count": 53,
     "metadata": {},
     "output_type": "execute_result"
    },
    {
     "data": {
      "image/png": "[encoded data removed]",
      "text/plain": [
       "<Figure size 554.4x307.44 with 1 Axes>"
      ]
     },
     "metadata": {
      "needs_background": "light"
     },
     "output_type": "display_data"
    }
   ],
   "source": [
    "data['Clusters'] = model.labels_\n",
    "sns.countplot(y=data[\"Clusters\"])"
   ]
  },
  {
   "cell_type": "markdown",
   "metadata": {},
   "source": [
    "Note que el sexo no es un factor tan importante en los primeros 3 clusters, solamente en el cluster 3 donde la mayoria son hombres"
   ]
  },
  {
   "cell_type": "code",
   "execution_count": 54,
   "metadata": {},
   "outputs": [
    {
     "data": {
      "text/html": [
       "<div>\n",
       "<style scoped>\n",
       "    .dataframe tbody tr th:only-of-type {\n",
       "        vertical-align: middle;\n",
       "    }\n",
       "\n",
       "    .dataframe tbody tr th {\n",
       "        vertical-align: top;\n",
       "    }\n",
       "\n",
       "    .dataframe thead th {\n",
       "        text-align: right;\n",
       "    }\n",
       "</style>\n",
       "<table border=\"1\" class=\"dataframe\">\n",
       "  <thead>\n",
       "    <tr style=\"text-align: right;\">\n",
       "      <th>Sexo</th>\n",
       "      <th>1.0</th>\n",
       "      <th>2.0</th>\n",
       "    </tr>\n",
       "    <tr>\n",
       "      <th>Clusters</th>\n",
       "      <th></th>\n",
       "      <th></th>\n",
       "    </tr>\n",
       "  </thead>\n",
       "  <tbody>\n",
       "    <tr>\n",
       "      <th>0</th>\n",
       "      <td>0.562266</td>\n",
       "      <td>0.437734</td>\n",
       "    </tr>\n",
       "    <tr>\n",
       "      <th>1</th>\n",
       "      <td>0.559240</td>\n",
       "      <td>0.440760</td>\n",
       "    </tr>\n",
       "    <tr>\n",
       "      <th>2</th>\n",
       "      <td>0.576605</td>\n",
       "      <td>0.423395</td>\n",
       "    </tr>\n",
       "    <tr>\n",
       "      <th>3</th>\n",
       "      <td>0.770915</td>\n",
       "      <td>0.229085</td>\n",
       "    </tr>\n",
       "    <tr>\n",
       "      <th>All</th>\n",
       "      <td>0.563727</td>\n",
       "      <td>0.436273</td>\n",
       "    </tr>\n",
       "  </tbody>\n",
       "</table>\n",
       "</div>"
      ],
      "text/plain": [
       "Sexo           1.0       2.0\n",
       "Clusters                    \n",
       "0         0.562266  0.437734\n",
       "1         0.559240  0.440760\n",
       "2         0.576605  0.423395\n",
       "3         0.770915  0.229085\n",
       "All       0.563727  0.436273"
      ]
     },
     "execution_count": 54,
     "metadata": {},
     "output_type": "execute_result"
    }
   ],
   "source": [
    "pd_crosstab = pd.crosstab(data[\"Clusters\"], data[\"Sexo\"], margins=True,normalize='index')\n",
    "pd_crosstab"
   ]
  },
  {
   "cell_type": "markdown",
   "metadata": {},
   "source": [
    "En todos los clusters se mantiene casi la misma proporcion en cuanto al departamento donde fallecieron menos en el cluster 3"
   ]
  },
  {
   "cell_type": "code",
   "execution_count": 55,
   "metadata": {},
   "outputs": [
    {
     "data": {
      "text/html": [
       "<div>\n",
       "<style scoped>\n",
       "    .dataframe tbody tr th:only-of-type {\n",
       "        vertical-align: middle;\n",
       "    }\n",
       "\n",
       "    .dataframe tbody tr th {\n",
       "        vertical-align: top;\n",
       "    }\n",
       "\n",
       "    .dataframe thead th {\n",
       "        text-align: right;\n",
       "    }\n",
       "</style>\n",
       "<table border=\"1\" class=\"dataframe\">\n",
       "  <thead>\n",
       "    <tr style=\"text-align: right;\">\n",
       "      <th>Depocu</th>\n",
       "      <th>1.0</th>\n",
       "      <th>2.0</th>\n",
       "      <th>3.0</th>\n",
       "      <th>4.0</th>\n",
       "      <th>5.0</th>\n",
       "      <th>6.0</th>\n",
       "      <th>7.0</th>\n",
       "      <th>8.0</th>\n",
       "      <th>9.0</th>\n",
       "      <th>10.0</th>\n",
       "      <th>...</th>\n",
       "      <th>13.0</th>\n",
       "      <th>14.0</th>\n",
       "      <th>15.0</th>\n",
       "      <th>16.0</th>\n",
       "      <th>17.0</th>\n",
       "      <th>18.0</th>\n",
       "      <th>19.0</th>\n",
       "      <th>20.0</th>\n",
       "      <th>21.0</th>\n",
       "      <th>22.0</th>\n",
       "    </tr>\n",
       "    <tr>\n",
       "      <th>Clusters</th>\n",
       "      <th></th>\n",
       "      <th></th>\n",
       "      <th></th>\n",
       "      <th></th>\n",
       "      <th></th>\n",
       "      <th></th>\n",
       "      <th></th>\n",
       "      <th></th>\n",
       "      <th></th>\n",
       "      <th></th>\n",
       "      <th></th>\n",
       "      <th></th>\n",
       "      <th></th>\n",
       "      <th></th>\n",
       "      <th></th>\n",
       "      <th></th>\n",
       "      <th></th>\n",
       "      <th></th>\n",
       "      <th></th>\n",
       "      <th></th>\n",
       "      <th></th>\n",
       "    </tr>\n",
       "  </thead>\n",
       "  <tbody>\n",
       "    <tr>\n",
       "      <th>0</th>\n",
       "      <td>0.291107</td>\n",
       "      <td>0.010598</td>\n",
       "      <td>0.021784</td>\n",
       "      <td>0.035304</td>\n",
       "      <td>0.057093</td>\n",
       "      <td>0.028441</td>\n",
       "      <td>0.023364</td>\n",
       "      <td>0.029330</td>\n",
       "      <td>0.060688</td>\n",
       "      <td>0.037140</td>\n",
       "      <td>...</td>\n",
       "      <td>0.055899</td>\n",
       "      <td>0.050328</td>\n",
       "      <td>0.014638</td>\n",
       "      <td>0.060442</td>\n",
       "      <td>0.024325</td>\n",
       "      <td>0.023876</td>\n",
       "      <td>0.018588</td>\n",
       "      <td>0.026722</td>\n",
       "      <td>0.020366</td>\n",
       "      <td>0.029770</td>\n",
       "    </tr>\n",
       "    <tr>\n",
       "      <th>1</th>\n",
       "      <td>0.289857</td>\n",
       "      <td>0.010812</td>\n",
       "      <td>0.022384</td>\n",
       "      <td>0.035110</td>\n",
       "      <td>0.058710</td>\n",
       "      <td>0.028684</td>\n",
       "      <td>0.023131</td>\n",
       "      <td>0.028820</td>\n",
       "      <td>0.061638</td>\n",
       "      <td>0.037558</td>\n",
       "      <td>...</td>\n",
       "      <td>0.057466</td>\n",
       "      <td>0.048738</td>\n",
       "      <td>0.014816</td>\n",
       "      <td>0.061077</td>\n",
       "      <td>0.025326</td>\n",
       "      <td>0.023743</td>\n",
       "      <td>0.018121</td>\n",
       "      <td>0.025888</td>\n",
       "      <td>0.020036</td>\n",
       "      <td>0.029605</td>\n",
       "    </tr>\n",
       "    <tr>\n",
       "      <th>2</th>\n",
       "      <td>0.299848</td>\n",
       "      <td>0.011265</td>\n",
       "      <td>0.020830</td>\n",
       "      <td>0.034229</td>\n",
       "      <td>0.053205</td>\n",
       "      <td>0.025844</td>\n",
       "      <td>0.023161</td>\n",
       "      <td>0.029089</td>\n",
       "      <td>0.062124</td>\n",
       "      <td>0.037600</td>\n",
       "      <td>...</td>\n",
       "      <td>0.054708</td>\n",
       "      <td>0.050986</td>\n",
       "      <td>0.015015</td>\n",
       "      <td>0.060397</td>\n",
       "      <td>0.024889</td>\n",
       "      <td>0.023723</td>\n",
       "      <td>0.017037</td>\n",
       "      <td>0.026560</td>\n",
       "      <td>0.019762</td>\n",
       "      <td>0.028457</td>\n",
       "    </tr>\n",
       "    <tr>\n",
       "      <th>3</th>\n",
       "      <td>0.755556</td>\n",
       "      <td>0.006209</td>\n",
       "      <td>0.009477</td>\n",
       "      <td>0.003268</td>\n",
       "      <td>0.028105</td>\n",
       "      <td>0.009477</td>\n",
       "      <td>0.000980</td>\n",
       "      <td>0.000980</td>\n",
       "      <td>0.024837</td>\n",
       "      <td>0.017647</td>\n",
       "      <td>...</td>\n",
       "      <td>0.000980</td>\n",
       "      <td>0.003595</td>\n",
       "      <td>0.000000</td>\n",
       "      <td>0.081373</td>\n",
       "      <td>0.009477</td>\n",
       "      <td>0.024183</td>\n",
       "      <td>0.002614</td>\n",
       "      <td>0.003922</td>\n",
       "      <td>0.001307</td>\n",
       "      <td>0.005229</td>\n",
       "    </tr>\n",
       "    <tr>\n",
       "      <th>All</th>\n",
       "      <td>0.293554</td>\n",
       "      <td>0.010815</td>\n",
       "      <td>0.021917</td>\n",
       "      <td>0.034898</td>\n",
       "      <td>0.057247</td>\n",
       "      <td>0.028072</td>\n",
       "      <td>0.023118</td>\n",
       "      <td>0.028899</td>\n",
       "      <td>0.061337</td>\n",
       "      <td>0.037383</td>\n",
       "      <td>...</td>\n",
       "      <td>0.056385</td>\n",
       "      <td>0.049372</td>\n",
       "      <td>0.014749</td>\n",
       "      <td>0.060869</td>\n",
       "      <td>0.024932</td>\n",
       "      <td>0.023776</td>\n",
       "      <td>0.018006</td>\n",
       "      <td>0.026141</td>\n",
       "      <td>0.020009</td>\n",
       "      <td>0.029367</td>\n",
       "    </tr>\n",
       "  </tbody>\n",
       "</table>\n",
       "<p>5 rows × 22 columns</p>\n",
       "</div>"
      ],
      "text/plain": [
       "Depocu        1.0       2.0       3.0       4.0       5.0       6.0   \\\n",
       "Clusters                                                               \n",
       "0         0.291107  0.010598  0.021784  0.035304  0.057093  0.028441   \n",
       "1         0.289857  0.010812  0.022384  0.035110  0.058710  0.028684   \n",
       "2         0.299848  0.011265  0.020830  0.034229  0.053205  0.025844   \n",
       "3         0.755556  0.006209  0.009477  0.003268  0.028105  0.009477   \n",
       "All       0.293554  0.010815  0.021917  0.034898  0.057247  0.028072   \n",
       "\n",
       "Depocu        7.0       8.0       9.0       10.0  ...      13.0      14.0  \\\n",
       "Clusters                                          ...                       \n",
       "0         0.023364  0.029330  0.060688  0.037140  ...  0.055899  0.050328   \n",
       "1         0.023131  0.028820  0.061638  0.037558  ...  0.057466  0.048738   \n",
       "2         0.023161  0.029089  0.062124  0.037600  ...  0.054708  0.050986   \n",
       "3         0.000980  0.000980  0.024837  0.017647  ...  0.000980  0.003595   \n",
       "All       0.023118  0.028899  0.061337  0.037383  ...  0.056385  0.049372   \n",
       "\n",
       "Depocu        15.0      16.0      17.0      18.0      19.0      20.0  \\\n",
       "Clusters                                                               \n",
       "0         0.014638  0.060442  0.024325  0.023876  0.018588  0.026722   \n",
       "1         0.014816  0.061077  0.025326  0.023743  0.018121  0.025888   \n",
       "2         0.015015  0.060397  0.024889  0.023723  0.017037  0.026560   \n",
       "3         0.000000  0.081373  0.009477  0.024183  0.002614  0.003922   \n",
       "All       0.014749  0.060869  0.024932  0.023776  0.018006  0.026141   \n",
       "\n",
       "Depocu        21.0      22.0  \n",
       "Clusters                      \n",
       "0         0.020366  0.029770  \n",
       "1         0.020036  0.029605  \n",
       "2         0.019762  0.028457  \n",
       "3         0.001307  0.005229  \n",
       "All       0.020009  0.029367  \n",
       "\n",
       "[5 rows x 22 columns]"
      ]
     },
     "execution_count": 55,
     "metadata": {},
     "output_type": "execute_result"
    }
   ],
   "source": [
    "pd_crosstab = pd.crosstab(data[\"Clusters\"], data[\"Depocu\"], margins=True,normalize='index')\n",
    "pd_crosstab"
   ]
  },
  {
   "cell_type": "markdown",
   "metadata": {},
   "source": [
    "Notemos que los que pertenecen al cluster 2 y 1 tienen una mayor proporcion de personas con edad avanzada que el cluster 0 "
   ]
  },
  {
   "cell_type": "code",
   "execution_count": 56,
   "metadata": {},
   "outputs": [
    {
     "data": {
      "text/html": [
       "<div>\n",
       "<style scoped>\n",
       "    .dataframe tbody tr th:only-of-type {\n",
       "        vertical-align: middle;\n",
       "    }\n",
       "\n",
       "    .dataframe tbody tr th {\n",
       "        vertical-align: top;\n",
       "    }\n",
       "\n",
       "    .dataframe thead th {\n",
       "        text-align: right;\n",
       "    }\n",
       "</style>\n",
       "<table border=\"1\" class=\"dataframe\">\n",
       "  <thead>\n",
       "    <tr style=\"text-align: right;\">\n",
       "      <th>Edadrange</th>\n",
       "      <th>0</th>\n",
       "      <th>Adolescente</th>\n",
       "      <th>Adulto</th>\n",
       "      <th>Adulto 2</th>\n",
       "      <th>Edad avanzada</th>\n",
       "      <th>Joven</th>\n",
       "      <th>Menos de un año</th>\n",
       "      <th>Niño</th>\n",
       "    </tr>\n",
       "    <tr>\n",
       "      <th>Clusters</th>\n",
       "      <th></th>\n",
       "      <th></th>\n",
       "      <th></th>\n",
       "      <th></th>\n",
       "      <th></th>\n",
       "      <th></th>\n",
       "      <th></th>\n",
       "      <th></th>\n",
       "    </tr>\n",
       "  </thead>\n",
       "  <tbody>\n",
       "    <tr>\n",
       "      <th>0</th>\n",
       "      <td>0.018225</td>\n",
       "      <td>0.057650</td>\n",
       "      <td>0.113625</td>\n",
       "      <td>0.157893</td>\n",
       "      <td>0.418966</td>\n",
       "      <td>0.106941</td>\n",
       "      <td>0.041472</td>\n",
       "      <td>0.085229</td>\n",
       "    </tr>\n",
       "    <tr>\n",
       "      <th>1</th>\n",
       "      <td>0.018396</td>\n",
       "      <td>0.055920</td>\n",
       "      <td>0.114011</td>\n",
       "      <td>0.160357</td>\n",
       "      <td>0.428643</td>\n",
       "      <td>0.100596</td>\n",
       "      <td>0.042438</td>\n",
       "      <td>0.079638</td>\n",
       "    </tr>\n",
       "    <tr>\n",
       "      <th>2</th>\n",
       "      <td>0.019229</td>\n",
       "      <td>0.065130</td>\n",
       "      <td>0.117844</td>\n",
       "      <td>0.145121</td>\n",
       "      <td>0.374684</td>\n",
       "      <td>0.125765</td>\n",
       "      <td>0.049315</td>\n",
       "      <td>0.102913</td>\n",
       "    </tr>\n",
       "    <tr>\n",
       "      <th>3</th>\n",
       "      <td>0.009150</td>\n",
       "      <td>0.086275</td>\n",
       "      <td>0.226471</td>\n",
       "      <td>0.130065</td>\n",
       "      <td>0.120915</td>\n",
       "      <td>0.257516</td>\n",
       "      <td>0.096078</td>\n",
       "      <td>0.073529</td>\n",
       "    </tr>\n",
       "    <tr>\n",
       "      <th>All</th>\n",
       "      <td>0.018457</td>\n",
       "      <td>0.058036</td>\n",
       "      <td>0.114961</td>\n",
       "      <td>0.157033</td>\n",
       "      <td>0.415895</td>\n",
       "      <td>0.107073</td>\n",
       "      <td>0.043536</td>\n",
       "      <td>0.085008</td>\n",
       "    </tr>\n",
       "  </tbody>\n",
       "</table>\n",
       "</div>"
      ],
      "text/plain": [
       "Edadrange         0  Adolescente    Adulto  Adulto 2  Edad avanzada     Joven  \\\n",
       "Clusters                                                                        \n",
       "0          0.018225     0.057650  0.113625  0.157893       0.418966  0.106941   \n",
       "1          0.018396     0.055920  0.114011  0.160357       0.428643  0.100596   \n",
       "2          0.019229     0.065130  0.117844  0.145121       0.374684  0.125765   \n",
       "3          0.009150     0.086275  0.226471  0.130065       0.120915  0.257516   \n",
       "All        0.018457     0.058036  0.114961  0.157033       0.415895  0.107073   \n",
       "\n",
       "Edadrange  Menos de un año      Niño  \n",
       "Clusters                              \n",
       "0                 0.041472  0.085229  \n",
       "1                 0.042438  0.079638  \n",
       "2                 0.049315  0.102913  \n",
       "3                 0.096078  0.073529  \n",
       "All               0.043536  0.085008  "
      ]
     },
     "execution_count": 56,
     "metadata": {},
     "output_type": "execute_result"
    }
   ],
   "source": [
    "# Creamos una columna clasificando a los distintos grupos de edad en categorias\n",
    "criteria = [data['Edadif'].between(0, 1),data['Edadif'].between(1.1, 10),data['Edadif'].between(10.1, 20),data['Edadif'].between(21.1, 35),\n",
    "            data['Edadif'].between(35.1, 50),data['Edadif'].between(51.1, 65),data['Edadif'].between(65.1, 100)]\n",
    "values = [\"Menos de un año\", \"Niño\", \"Adolescente\",\"Joven\",\"Adulto\",\"Adulto 2\",\"Edad avanzada\"]\n",
    "\n",
    "data['Edadrange'] = np.select(criteria, values, 0)\n",
    "\n",
    "pd_crosstab = pd.crosstab(data[\"Clusters\"], data[\"Edadrange\"], margins=True,normalize='index')\n",
    "pd_crosstab"
   ]
  },
  {
   "cell_type": "code",
   "execution_count": null,
   "metadata": {},
   "outputs": [],
   "source": [
    "data2 = data.select_dtypes(exclude=['object'])\n",
    "X = data2.iloc[:,:].values\n",
    "from sklearn.metrics import silhouette_score\n",
    "grupos = [KMeans(n_clusters = i, max_iter = 10).fit(X) for i in range (1,6)]"
   ]
  },
  {
   "cell_type": "code",
   "execution_count": null,
   "metadata": {},
   "outputs": [],
   "source": [
    "scores = [silhouette_score(X, model.labels_) for model in grupos[1:]]\n",
    "scores"
   ]
  },
  {
   "cell_type": "code",
   "execution_count": null,
   "metadata": {},
   "outputs": [],
   "source": []
  }
 ],
 "metadata": {
  "kernelspec": {
   "display_name": "Python 3",
   "language": "python",
   "name": "python3"
  },
  "language_info": {
   "codemirror_mode": {
    "name": "ipython",
    "version": 3
   },
   "file_extension": ".py",
   "mimetype": "text/x-python",
   "name": "python",
   "nbconvert_exporter": "python",
   "pygments_lexer": "ipython3",
   "version": "3.7.0"
  }
 },
 "nbformat": 4,
 "nbformat_minor": 4
}
